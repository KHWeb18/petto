{
 "cells": [
  {
   "cell_type": "code",
   "execution_count": 1,
   "id": "9bd253d9",
   "metadata": {},
   "outputs": [],
   "source": [
    "from flask import Flask, url_for, request, jsonify, redirect, Response\n",
    "from flask_cors import CORS, cross_origin\n",
    "\n",
    "import json\n",
    "import requests\n",
    "\n",
    "import selenium\n",
    "from selenium import webdriver\n",
    "\n",
    "from selenium.webdriver.common.keys import Keys"
   ]
  },
  {
   "cell_type": "code",
   "execution_count": 2,
   "id": "9e945c98",
   "metadata": {},
   "outputs": [
    {
     "name": "stdout",
     "output_type": "stream",
     "text": [
      " * Serving Flask app \"__main__\" (lazy loading)\n",
      " * Environment: production\n",
      "   WARNING: This is a development server. Do not use it in a production deployment.\n",
      "   Use a production WSGI server instead.\n",
      " * Debug mode: off\n"
     ]
    },
    {
     "name": "stderr",
     "output_type": "stream",
     "text": [
      " * Running on http://127.0.0.1:5000/ (Press CTRL+C to quit)\n",

      "127.0.0.1 - - [26/Nov/2021 18:02:38] \"\u001b[33mPOST /pawinhandCrawling HTTP/1.1\u001b[0m\" 404 -\n",
      "127.0.0.1 - - [26/Nov/2021 18:02:43] \"\u001b[37mPOST /pythonCrawlNews HTTP/1.1\u001b[0m\" 200 -\n"

      "127.0.0.1 - - [01/Dec/2021 15:47:51] \"\u001b[33mPOST /pawinhandCrawling HTTP/1.1\u001b[0m\" 404 -\n",
      "127.0.0.1 - - [01/Dec/2021 15:47:53] \"\u001b[37mPOST /pythonCrawlNews HTTP/1.1\u001b[0m\" 200 -\n"
     ]
    },
    {
     "name": "stdout",
     "output_type": "stream",
     "text": [

      "['https://www.pressian.com/pages/articles/2021112610012208124?utm_source=naver&utm_medium=search', 'http://www.dailyvet.co.kr/news/interview/156770', 'https://www.news1.kr/articles/?4504393', 'https://www.pressian.com/pages/articles/2021112409495549279?utm_source=naver&utm_medium=search', 'https://www.cjb.co.kr/home/sub.php?menukey=61&mod=view&P_NO=211122087&PRO_CODE=4', 'https://www.joongang.co.kr/article/25025893', 'https://www.seoul.co.kr/news/newsView.php?id=20211123500106&wlog_tag3=naver', 'http://www.wowtv.co.kr/NewsCenter/News/Read?articleId=A202111130018&t=NN', 'http://www.segye.com/content/html/2021/11/17/20211117519596.html?OutUrl=naver', 'https://www.cnbnews.com/news/article.html?no=520191']\n",
      "\n",
      "['버려지는 동물로 돈벌이...세금도 부정하게 수급했다', '[수의학 A to Z] 동물의 죽음과 동물복지 [V：3부]', \"[신간]웹툰으로 보는 '우리가 몰랐던 진짜 동물병원 이야기'\", '앞발 잘린 고양이도...이것은 방사인가, 유기인가', '수준 낮은 반려동물센터...5년 만에 재건립', '네발 잘렸는데 이제 뛴다···\"안락사\" 밖에 없다던 유기견의 기적', '귀엽다고 할 땐 언제고…‘님비(NIMBY) 현상’에 가로막힌 공공 동물보호센터', '충북 유기동물 4분의 1 안락사…개체수 폭증', '“유기견 돌보며 힐링”… 동물복지센터 자원봉사 인기', '광주 북구 전미용 의원, 유기동물 입양 위한 제도적 지원 필요']\n"

      "['http://www.sisajournal.com/news/articleView.html?idxno=228658', 'http://www.fnnews.com/news/202111281105080972', 'http://news.kmib.co.kr/article/view.asp?arcid=0016513513&code=61122022&cp=nv', 'http://www.seoulfn.com/news/articleView.html?idxno=439237', 'https://www.pressian.com/pages/articles/2021112610012208124?utm_source=naver&utm_medium=search', 'http://www.dailyvet.co.kr/news/interview/156770', 'https://www.pressian.com/pages/articles/2021112409495549279?utm_source=naver&utm_medium=search', 'https://hankookilbo.com/News/Read/A2021112308580001147?did=NA', 'http://monthly.chosun.com/client/mdaily/daily_view.asp?idx=14029&Newsnumb=20211114029', 'https://www.news1.kr/articles/?4504393']\n",
      "\n",
      "[\"유기동물 보호소 표방한 '신종 펫숍' 주의보 [따듯한 동물사전]\", '갤러리아百, 유기동물 보호 메시지 담은 쇼핑백 제작', '경주시 버림받는 반려동물 보호 앞장…동물보호센터 준공', '갤러리아백화점, 유기동물 보호 주제 쇼핑백 제작', '버려지는 동물로 돈벌이...세금도 부정하게 수급했다', '[수의학 A to Z] 동물의 죽음과 동물복지 [V：3부]', '앞발 잘린 고양이도...이것은 방사인가, 유기인가', '\"18년째 보호소 운영\" 동물 위해 나선 스타들', '동물권 향상을 위한 국회 모임 ‘동심’, 천사들의보금자리에서 봉사 활동 | 노련, 동심에 아르테미스 H.I.T. 사료 500kg 기부', \"[신간]웹툰으로 보는 '우리가 몰랐던 진짜 동물병원 이야기'\"]\n"

     ]
    },
    {
     "name": "stderr",
     "output_type": "stream",
     "text": [

      "127.0.0.1 - - [26/Nov/2021 18:05:19] \"\u001b[33mPOST /pawinhandCrawling HTTP/1.1\u001b[0m\" 404 -\n",
      "127.0.0.1 - - [26/Nov/2021 19:11:12] \"\u001b[33mPOST /pawinhandCrawling HTTP/1.1\u001b[0m\" 404 -\n",
      "127.0.0.1 - - [26/Nov/2021 19:11:17] \"\u001b[37mPOST /pythonCrawlNews HTTP/1.1\u001b[0m\" 200 -\n"

      "127.0.0.1 - - [01/Dec/2021 15:48:32] \"\u001b[33mPOST /pawinhandCrawling HTTP/1.1\u001b[0m\" 404 -\n",
      "127.0.0.1 - - [01/Dec/2021 15:48:34] \"\u001b[37mPOST /pythonCrawlNews HTTP/1.1\u001b[0m\" 200 -\n"

     ]
    },
    {
     "name": "stdout",
     "output_type": "stream",
     "text": [

      "['https://www.pressian.com/pages/articles/2021112610012208124?utm_source=naver&utm_medium=search', 'http://www.dailyvet.co.kr/news/interview/156770', 'https://www.news1.kr/articles/?4504393', 'https://www.pressian.com/pages/articles/2021112409495549279?utm_source=naver&utm_medium=search', 'https://www.cjb.co.kr/home/sub.php?menukey=61&mod=view&P_NO=211122087&PRO_CODE=4', 'https://www.joongang.co.kr/article/25025893', 'https://www.seoul.co.kr/news/newsView.php?id=20211123500106&wlog_tag3=naver', 'http://www.wowtv.co.kr/NewsCenter/News/Read?articleId=A202111130018&t=NN', 'http://www.segye.com/content/html/2021/11/17/20211117519596.html?OutUrl=naver', 'https://www.cnbnews.com/news/article.html?no=520191']\n",
      "\n",
      "['버려지는 동물로 돈벌이...세금도 부정하게 수급했다', '[수의학 A to Z] 동물의 죽음과 동물복지 [V：3부]', \"[신간]웹툰으로 보는 '우리가 몰랐던 진짜 동물병원 이야기'\", '앞발 잘린 고양이도...이것은 방사인가, 유기인가', '수준 낮은 반려동물센터...5년 만에 재건립', '네발 잘렸는데 이제 뛴다···\"안락사\" 밖에 없다던 유기견의 기적', '귀엽다고 할 땐 언제고…‘님비(NIMBY) 현상’에 가로막힌 공공 동물보호센터', '충북 유기동물 4분의 1 안락사…개체수 폭증', '“유기견 돌보며 힐링”… 동물복지센터 자원봉사 인기', '광주 북구 전미용 의원, 유기동물 입양 위한 제도적 지원 필요']\n"

      "['http://www.sisajournal.com/news/articleView.html?idxno=228658', 'http://www.fnnews.com/news/202111281105080972', 'http://news.kmib.co.kr/article/view.asp?arcid=0016513513&code=61122022&cp=nv', 'http://www.seoulfn.com/news/articleView.html?idxno=439237', 'https://www.pressian.com/pages/articles/2021112610012208124?utm_source=naver&utm_medium=search', 'http://www.dailyvet.co.kr/news/interview/156770', 'https://www.pressian.com/pages/articles/2021112409495549279?utm_source=naver&utm_medium=search', 'https://hankookilbo.com/News/Read/A2021112308580001147?did=NA', 'http://monthly.chosun.com/client/mdaily/daily_view.asp?idx=14029&Newsnumb=20211114029', 'https://www.news1.kr/articles/?4504393']\n",
      "\n",
      "[\"유기동물 보호소 표방한 '신종 펫숍' 주의보 [따듯한 동물사전]\", '갤러리아百, 유기동물 보호 메시지 담은 쇼핑백 제작', '경주시 버림받는 반려동물 보호 앞장…동물보호센터 준공', '갤러리아백화점, 유기동물 보호 주제 쇼핑백 제작', '버려지는 동물로 돈벌이...세금도 부정하게 수급했다', '[수의학 A to Z] 동물의 죽음과 동물복지 [V：3부]', '앞발 잘린 고양이도...이것은 방사인가, 유기인가', '\"18년째 보호소 운영\" 동물 위해 나선 스타들', '동물권 향상을 위한 국회 모임 ‘동심’, 천사들의보금자리에서 봉사 활동 | 노련, 동심에 아르테미스 H.I.T. 사료 500kg 기부', \"[신간]웹툰으로 보는 '우리가 몰랐던 진짜 동물병원 이야기'\"]\n"

     ]
    },
    {
     "name": "stderr",
     "output_type": "stream",
     "text": [

      "127.0.0.1 - - [26/Nov/2021 19:12:16] \"\u001b[33mPOST /pawinhandCrawling HTTP/1.1\u001b[0m\" 404 -\n",
      "127.0.0.1 - - [26/Nov/2021 19:12:18] \"\u001b[37mPOST /pythonCrawlNews HTTP/1.1\u001b[0m\" 200 -\n"

      "127.0.0.1 - - [01/Dec/2021 15:51:15] \"\u001b[33mPOST /pawinhandCrawling HTTP/1.1\u001b[0m\" 404 -\n",
      "127.0.0.1 - - [01/Dec/2021 15:51:17] \"\u001b[37mPOST /pythonCrawlNews HTTP/1.1\u001b[0m\" 200 -\n"

     ]
    },
    {
     "name": "stdout",
     "output_type": "stream",
     "text": [

      "['https://www.pressian.com/pages/articles/2021112610012208124?utm_source=naver&utm_medium=search', 'http://www.dailyvet.co.kr/news/interview/156770', 'https://www.news1.kr/articles/?4504393', 'https://www.pressian.com/pages/articles/2021112409495549279?utm_source=naver&utm_medium=search', 'https://www.cjb.co.kr/home/sub.php?menukey=61&mod=view&P_NO=211122087&PRO_CODE=4', 'https://www.joongang.co.kr/article/25025893', 'https://www.seoul.co.kr/news/newsView.php?id=20211123500106&wlog_tag3=naver', 'http://www.wowtv.co.kr/NewsCenter/News/Read?articleId=A202111130018&t=NN', 'http://www.segye.com/content/html/2021/11/17/20211117519596.html?OutUrl=naver', 'https://www.cnbnews.com/news/article.html?no=520191']\n",
      "\n",
      "['버려지는 동물로 돈벌이...세금도 부정하게 수급했다', '[수의학 A to Z] 동물의 죽음과 동물복지 [V：3부]', \"[신간]웹툰으로 보는 '우리가 몰랐던 진짜 동물병원 이야기'\", '앞발 잘린 고양이도...이것은 방사인가, 유기인가', '수준 낮은 반려동물센터...5년 만에 재건립', '네발 잘렸는데 이제 뛴다···\"안락사\" 밖에 없다던 유기견의 기적', '귀엽다고 할 땐 언제고…‘님비(NIMBY) 현상’에 가로막힌 공공 동물보호센터', '충북 유기동물 4분의 1 안락사…개체수 폭증', '“유기견 돌보며 힐링”… 동물복지센터 자원봉사 인기', '광주 북구 전미용 의원, 유기동물 입양 위한 제도적 지원 필요']\n"

      "['http://www.sisajournal.com/news/articleView.html?idxno=228658', 'http://www.fnnews.com/news/202111281105080972', 'http://news.kmib.co.kr/article/view.asp?arcid=0016513513&code=61122022&cp=nv', 'http://www.seoulfn.com/news/articleView.html?idxno=439237', 'https://www.pressian.com/pages/articles/2021112610012208124?utm_source=naver&utm_medium=search', 'http://www.dailyvet.co.kr/news/interview/156770', 'https://www.pressian.com/pages/articles/2021112409495549279?utm_source=naver&utm_medium=search', 'https://hankookilbo.com/News/Read/A2021112308580001147?did=NA', 'http://monthly.chosun.com/client/mdaily/daily_view.asp?idx=14029&Newsnumb=20211114029', 'https://www.news1.kr/articles/?4504393']\n",
      "\n",
      "[\"유기동물 보호소 표방한 '신종 펫숍' 주의보 [따듯한 동물사전]\", '갤러리아百, 유기동물 보호 메시지 담은 쇼핑백 제작', '경주시 버림받는 반려동물 보호 앞장…동물보호센터 준공', '갤러리아백화점, 유기동물 보호 주제 쇼핑백 제작', '버려지는 동물로 돈벌이...세금도 부정하게 수급했다', '[수의학 A to Z] 동물의 죽음과 동물복지 [V：3부]', '앞발 잘린 고양이도...이것은 방사인가, 유기인가', '\"18년째 보호소 운영\" 동물 위해 나선 스타들', '동물권 향상을 위한 국회 모임 ‘동심’, 천사들의보금자리에서 봉사 활동 | 노련, 동심에 아르테미스 H.I.T. 사료 500kg 기부', \"[신간]웹툰으로 보는 '우리가 몰랐던 진짜 동물병원 이야기'\"]\n"

     ]
    },
    {
     "name": "stderr",
     "output_type": "stream",
     "text": [

      "127.0.0.1 - - [26/Nov/2021 19:17:25] \"\u001b[33mPOST /pawinhandCrawling HTTP/1.1\u001b[0m\" 404 -\n",
      "127.0.0.1 - - [26/Nov/2021 19:17:29] \"\u001b[37mPOST /pythonCrawlNews HTTP/1.1\u001b[0m\" 200 -\n"

      "127.0.0.1 - - [01/Dec/2021 15:51:49] \"\u001b[33mPOST /pawinhandCrawling HTTP/1.1\u001b[0m\" 404 -\n",
      "127.0.0.1 - - [01/Dec/2021 15:51:51] \"\u001b[37mPOST /pythonCrawlNews HTTP/1.1\u001b[0m\" 200 -\n"

     ]
    },
    {
     "name": "stdout",
     "output_type": "stream",
     "text": [

      "['https://www.pressian.com/pages/articles/2021112610012208124?utm_source=naver&utm_medium=search', 'http://www.dailyvet.co.kr/news/interview/156770', 'https://www.news1.kr/articles/?4504393', 'https://www.pressian.com/pages/articles/2021112409495549279?utm_source=naver&utm_medium=search', 'https://www.cjb.co.kr/home/sub.php?menukey=61&mod=view&P_NO=211122087&PRO_CODE=4', 'https://www.joongang.co.kr/article/25025893', 'https://www.seoul.co.kr/news/newsView.php?id=20211123500106&wlog_tag3=naver', 'http://www.wowtv.co.kr/NewsCenter/News/Read?articleId=A202111130018&t=NN', 'http://www.segye.com/content/html/2021/11/17/20211117519596.html?OutUrl=naver', 'https://www.cnbnews.com/news/article.html?no=520191']\n",
      "\n",
      "['버려지는 동물로 돈벌이...세금도 부정하게 수급했다', '[수의학 A to Z] 동물의 죽음과 동물복지 [V：3부]', \"[신간]웹툰으로 보는 '우리가 몰랐던 진짜 동물병원 이야기'\", '앞발 잘린 고양이도...이것은 방사인가, 유기인가', '수준 낮은 반려동물센터...5년 만에 재건립', '네발 잘렸는데 이제 뛴다···\"안락사\" 밖에 없다던 유기견의 기적', '귀엽다고 할 땐 언제고…‘님비(NIMBY) 현상’에 가로막힌 공공 동물보호센터', '충북 유기동물 4분의 1 안락사…개체수 폭증', '“유기견 돌보며 힐링”… 동물복지센터 자원봉사 인기', '광주 북구 전미용 의원, 유기동물 입양 위한 제도적 지원 필요']\n"

      "['http://www.sisajournal.com/news/articleView.html?idxno=228658', 'http://www.fnnews.com/news/202111281105080972', 'http://news.kmib.co.kr/article/view.asp?arcid=0016513513&code=61122022&cp=nv', 'http://www.seoulfn.com/news/articleView.html?idxno=439237', 'https://www.pressian.com/pages/articles/2021112610012208124?utm_source=naver&utm_medium=search', 'http://www.dailyvet.co.kr/news/interview/156770', 'https://www.pressian.com/pages/articles/2021112409495549279?utm_source=naver&utm_medium=search', 'https://hankookilbo.com/News/Read/A2021112308580001147?did=NA', 'http://monthly.chosun.com/client/mdaily/daily_view.asp?idx=14029&Newsnumb=20211114029', 'https://www.news1.kr/articles/?4504393']\n",
      "\n",
      "[\"유기동물 보호소 표방한 '신종 펫숍' 주의보 [따듯한 동물사전]\", '갤러리아百, 유기동물 보호 메시지 담은 쇼핑백 제작', '경주시 버림받는 반려동물 보호 앞장…동물보호센터 준공', '갤러리아백화점, 유기동물 보호 주제 쇼핑백 제작', '버려지는 동물로 돈벌이...세금도 부정하게 수급했다', '[수의학 A to Z] 동물의 죽음과 동물복지 [V：3부]', '앞발 잘린 고양이도...이것은 방사인가, 유기인가', '\"18년째 보호소 운영\" 동물 위해 나선 스타들', '동물권 향상을 위한 국회 모임 ‘동심’, 천사들의보금자리에서 봉사 활동 | 노련, 동심에 아르테미스 H.I.T. 사료 500kg 기부', \"[신간]웹툰으로 보는 '우리가 몰랐던 진짜 동물병원 이야기'\"]\n"

     ]
    },
    {
     "name": "stderr",
     "output_type": "stream",
     "text": [

      "127.0.0.1 - - [26/Nov/2021 19:20:42] \"\u001b[33mPOST /pawinhandCrawling HTTP/1.1\u001b[0m\" 404 -\n",
      "127.0.0.1 - - [26/Nov/2021 19:20:44] \"\u001b[37mPOST /pythonCrawlNews HTTP/1.1\u001b[0m\" 200 -\n"

      "127.0.0.1 - - [01/Dec/2021 15:58:35] \"\u001b[37mPOST /pythonCrawlNews HTTP/1.1\u001b[0m\" 200 -\n"

     ]
    },
    {
     "name": "stdout",
     "output_type": "stream",
     "text": [

      "['https://www.pressian.com/pages/articles/2021112610012208124?utm_source=naver&utm_medium=search', 'http://www.dailyvet.co.kr/news/interview/156770', 'https://www.news1.kr/articles/?4504393', 'https://www.pressian.com/pages/articles/2021112409495549279?utm_source=naver&utm_medium=search', 'https://www.cjb.co.kr/home/sub.php?menukey=61&mod=view&P_NO=211122087&PRO_CODE=4', 'https://www.joongang.co.kr/article/25025893', 'https://www.seoul.co.kr/news/newsView.php?id=20211123500106&wlog_tag3=naver', 'http://www.wowtv.co.kr/NewsCenter/News/Read?articleId=A202111130018&t=NN', 'http://www.segye.com/content/html/2021/11/17/20211117519596.html?OutUrl=naver', 'https://www.cnbnews.com/news/article.html?no=520191']\n",
      "\n",
      "['버려지는 동물로 돈벌이...세금도 부정하게 수급했다', '[수의학 A to Z] 동물의 죽음과 동물복지 [V：3부]', \"[신간]웹툰으로 보는 '우리가 몰랐던 진짜 동물병원 이야기'\", '앞발 잘린 고양이도...이것은 방사인가, 유기인가', '수준 낮은 반려동물센터...5년 만에 재건립', '네발 잘렸는데 이제 뛴다···\"안락사\" 밖에 없다던 유기견의 기적', '귀엽다고 할 땐 언제고…‘님비(NIMBY) 현상’에 가로막힌 공공 동물보호센터', '충북 유기동물 4분의 1 안락사…개체수 폭증', '“유기견 돌보며 힐링”… 동물복지센터 자원봉사 인기', '광주 북구 전미용 의원, 유기동물 입양 위한 제도적 지원 필요']\n"

      "['http://www.sisajournal.com/news/articleView.html?idxno=228658', 'http://www.fnnews.com/news/202111281105080972', 'http://news.kmib.co.kr/article/view.asp?arcid=0016513513&code=61122022&cp=nv', 'http://www.seoulfn.com/news/articleView.html?idxno=439237', 'https://www.pressian.com/pages/articles/2021112610012208124?utm_source=naver&utm_medium=search', 'http://www.dailyvet.co.kr/news/interview/156770', 'https://www.pressian.com/pages/articles/2021112409495549279?utm_source=naver&utm_medium=search', 'https://hankookilbo.com/News/Read/A2021112308580001147?did=NA', 'http://monthly.chosun.com/client/mdaily/daily_view.asp?idx=14029&Newsnumb=20211114029', 'https://www.news1.kr/articles/?4504393']\n",
      "\n",
      "[\"유기동물 보호소 표방한 '신종 펫숍' 주의보 [따듯한 동물사전]\", '갤러리아百, 유기동물 보호 메시지 담은 쇼핑백 제작', '경주시 버림받는 반려동물 보호 앞장…동물보호센터 준공', '갤러리아백화점, 유기동물 보호 주제 쇼핑백 제작', '버려지는 동물로 돈벌이...세금도 부정하게 수급했다', '[수의학 A to Z] 동물의 죽음과 동물복지 [V：3부]', '앞발 잘린 고양이도...이것은 방사인가, 유기인가', '\"18년째 보호소 운영\" 동물 위해 나선 스타들', '동물권 향상을 위한 국회 모임 ‘동심’, 천사들의보금자리에서 봉사 활동 | 노련, 동심에 아르테미스 H.I.T. 사료 500kg 기부', \"[신간]웹툰으로 보는 '우리가 몰랐던 진짜 동물병원 이야기'\"]\n"

     ]
    },
    {
     "name": "stderr",
     "output_type": "stream",
     "text": [

      "127.0.0.1 - - [26/Nov/2021 19:20:47] \"\u001b[33mPOST /pawinhandCrawling HTTP/1.1\u001b[0m\" 404 -\n",
      "127.0.0.1 - - [26/Nov/2021 19:20:49] \"\u001b[37mPOST /pythonCrawlNews HTTP/1.1\u001b[0m\" 200 -\n"

      "127.0.0.1 - - [01/Dec/2021 15:58:37] \"\u001b[33mPOST /pawinhandCrawling HTTP/1.1\u001b[0m\" 404 -\n",
      "127.0.0.1 - - [01/Dec/2021 16:00:20] \"\u001b[33mPOST /pawinhandCrawling HTTP/1.1\u001b[0m\" 404 -\n",
      "127.0.0.1 - - [01/Dec/2021 16:00:22] \"\u001b[37mPOST /pythonCrawlNews HTTP/1.1\u001b[0m\" 200 -\n"

     ]
    },
    {
     "name": "stdout",
     "output_type": "stream",
     "text": [

      "['https://www.pressian.com/pages/articles/2021112610012208124?utm_source=naver&utm_medium=search', 'http://www.dailyvet.co.kr/news/interview/156770', 'https://www.news1.kr/articles/?4504393', 'https://www.pressian.com/pages/articles/2021112409495549279?utm_source=naver&utm_medium=search', 'https://www.cjb.co.kr/home/sub.php?menukey=61&mod=view&P_NO=211122087&PRO_CODE=4', 'https://www.joongang.co.kr/article/25025893', 'https://www.seoul.co.kr/news/newsView.php?id=20211123500106&wlog_tag3=naver', 'http://www.wowtv.co.kr/NewsCenter/News/Read?articleId=A202111130018&t=NN', 'http://www.segye.com/content/html/2021/11/17/20211117519596.html?OutUrl=naver', 'https://www.cnbnews.com/news/article.html?no=520191']\n",
      "\n",
      "['버려지는 동물로 돈벌이...세금도 부정하게 수급했다', '[수의학 A to Z] 동물의 죽음과 동물복지 [V：3부]', \"[신간]웹툰으로 보는 '우리가 몰랐던 진짜 동물병원 이야기'\", '앞발 잘린 고양이도...이것은 방사인가, 유기인가', '수준 낮은 반려동물센터...5년 만에 재건립', '네발 잘렸는데 이제 뛴다···\"안락사\" 밖에 없다던 유기견의 기적', '귀엽다고 할 땐 언제고…‘님비(NIMBY) 현상’에 가로막힌 공공 동물보호센터', '충북 유기동물 4분의 1 안락사…개체수 폭증', '“유기견 돌보며 힐링”… 동물복지센터 자원봉사 인기', '광주 북구 전미용 의원, 유기동물 입양 위한 제도적 지원 필요']\n"

      "['http://www.newsis.com/view/?id=NISX20211201_0001671631&cID=10807&pID=10800', 'http://www.sisajournal.com/news/articleView.html?idxno=228658', 'http://www.fnnews.com/news/202111281105080972', 'http://news.kmib.co.kr/article/view.asp?arcid=0016513513&code=61122022&cp=nv', 'http://www.seoulfn.com/news/articleView.html?idxno=439237', 'https://www.pressian.com/pages/articles/2021112610012208124?utm_source=naver&utm_medium=search', 'http://www.dailyvet.co.kr/news/interview/156770', 'https://www.pressian.com/pages/articles/2021112409495549279?utm_source=naver&utm_medium=search', 'https://hankookilbo.com/News/Read/A2021112308580001147?did=NA', 'http://monthly.chosun.com/client/mdaily/daily_view.asp?idx=14029&Newsnumb=20211114029']\n",
      "\n",
      "['대전시-하나은행-대한적십자사, 유기동물 입양 활성화 협력', \"유기동물 보호소 표방한 '신종 펫숍' 주의보 [따듯한 동물사전]\", '갤러리아百, 유기동물 보호 메시지 담은 쇼핑백 제작', '경주시 버림받는 반려동물 보호 앞장…동물보호센터 준공', '갤러리아백화점, 유기동물 보호 주제 쇼핑백 제작', '버려지는 동물로 돈벌이...세금도 부정하게 수급했다', '[수의학 A to Z] 동물의 죽음과 동물복지 [V：3부]', '앞발 잘린 고양이도...이것은 방사인가, 유기인가', '\"18년째 보호소 운영\" 동물 위해 나선 스타들', '동물권 향상을 위한 국회 모임 ‘동심’, 천사들의보금자리에서 봉사 활동 | 노련, 동심에 아르테미스 H.I.T. 사료 500kg 기부']\n"

     ]
    },
    {
     "name": "stderr",
     "output_type": "stream",
     "text": [

      "127.0.0.1 - - [26/Nov/2021 19:20:54] \"\u001b[33mPOST /pawinhandCrawling HTTP/1.1\u001b[0m\" 404 -\n"

      "127.0.0.1 - - [01/Dec/2021 16:00:45] \"\u001b[33mPOST /pawinhandCrawling HTTP/1.1\u001b[0m\" 404 -\n",
      "127.0.0.1 - - [01/Dec/2021 16:00:47] \"\u001b[37mPOST /pythonCrawlNews HTTP/1.1\u001b[0m\" 200 -\n"

     ]
    },
    {
     "name": "stdout",
     "output_type": "stream",
     "text": [

      "['https://www.pressian.com/pages/articles/2021112610012208124?utm_source=naver&utm_medium=search', 'http://www.dailyvet.co.kr/news/interview/156770', 'https://www.news1.kr/articles/?4504393', 'https://www.pressian.com/pages/articles/2021112409495549279?utm_source=naver&utm_medium=search', 'https://www.cjb.co.kr/home/sub.php?menukey=61&mod=view&P_NO=211122087&PRO_CODE=4', 'https://www.joongang.co.kr/article/25025893', 'https://www.seoul.co.kr/news/newsView.php?id=20211123500106&wlog_tag3=naver', 'http://www.wowtv.co.kr/NewsCenter/News/Read?articleId=A202111130018&t=NN', 'http://www.segye.com/content/html/2021/11/17/20211117519596.html?OutUrl=naver', 'https://www.cnbnews.com/news/article.html?no=520191']\n",
      "\n",
      "['버려지는 동물로 돈벌이...세금도 부정하게 수급했다', '[수의학 A to Z] 동물의 죽음과 동물복지 [V：3부]', \"[신간]웹툰으로 보는 '우리가 몰랐던 진짜 동물병원 이야기'\", '앞발 잘린 고양이도...이것은 방사인가, 유기인가', '수준 낮은 반려동물센터...5년 만에 재건립', '네발 잘렸는데 이제 뛴다···\"안락사\" 밖에 없다던 유기견의 기적', '귀엽다고 할 땐 언제고…‘님비(NIMBY) 현상’에 가로막힌 공공 동물보호센터', '충북 유기동물 4분의 1 안락사…개체수 폭증', '“유기견 돌보며 힐링”… 동물복지센터 자원봉사 인기', '광주 북구 전미용 의원, 유기동물 입양 위한 제도적 지원 필요']\n"

      "['http://www.newsis.com/view/?id=NISX20211201_0001671631&cID=10807&pID=10800', 'http://www.sisajournal.com/news/articleView.html?idxno=228658', 'http://www.fnnews.com/news/202111281105080972', 'http://news.kmib.co.kr/article/view.asp?arcid=0016513513&code=61122022&cp=nv', 'http://www.seoulfn.com/news/articleView.html?idxno=439237', 'https://www.pressian.com/pages/articles/2021112610012208124?utm_source=naver&utm_medium=search', 'http://www.dailyvet.co.kr/news/interview/156770', 'https://www.pressian.com/pages/articles/2021112409495549279?utm_source=naver&utm_medium=search', 'https://hankookilbo.com/News/Read/A2021112308580001147?did=NA', 'http://monthly.chosun.com/client/mdaily/daily_view.asp?idx=14029&Newsnumb=20211114029']\n",
      "\n",
      "['대전시-하나은행-대한적십자사, 유기동물 입양 활성화 협력', \"유기동물 보호소 표방한 '신종 펫숍' 주의보 [따듯한 동물사전]\", '갤러리아百, 유기동물 보호 메시지 담은 쇼핑백 제작', '경주시 버림받는 반려동물 보호 앞장…동물보호센터 준공', '갤러리아백화점, 유기동물 보호 주제 쇼핑백 제작', '버려지는 동물로 돈벌이...세금도 부정하게 수급했다', '[수의학 A to Z] 동물의 죽음과 동물복지 [V：3부]', '앞발 잘린 고양이도...이것은 방사인가, 유기인가', '\"18년째 보호소 운영\" 동물 위해 나선 스타들', '동물권 향상을 위한 국회 모임 ‘동심’, 천사들의보금자리에서 봉사 활동 | 노련, 동심에 아르테미스 H.I.T. 사료 500kg 기부']\n"

     ]
    },
    {
     "name": "stderr",
     "output_type": "stream",
     "text": [

      "127.0.0.1 - - [26/Nov/2021 19:20:56] \"\u001b[37mPOST /pythonCrawlNews HTTP/1.1\u001b[0m\" 200 -\n",
      "127.0.0.1 - - [26/Nov/2021 19:26:17] \"\u001b[33mPOST /pawinhandCrawling HTTP/1.1\u001b[0m\" 404 -\n",
      "127.0.0.1 - - [26/Nov/2021 19:26:19] \"\u001b[37mPOST /pythonCrawlNews HTTP/1.1\u001b[0m\" 200 -\n"

      "127.0.0.1 - - [01/Dec/2021 16:02:31] \"\u001b[37mPOST /pythonCrawlNews HTTP/1.1\u001b[0m\" 200 -\n"

     ]
    },
    {
     "name": "stdout",
     "output_type": "stream",
     "text": [

      "['https://www.pressian.com/pages/articles/2021112610012208124?utm_source=naver&utm_medium=search', 'http://www.dailyvet.co.kr/news/interview/156770', 'https://www.news1.kr/articles/?4504393', 'https://www.pressian.com/pages/articles/2021112409495549279?utm_source=naver&utm_medium=search', 'https://www.cjb.co.kr/home/sub.php?menukey=61&mod=view&P_NO=211122087&PRO_CODE=4', 'https://www.joongang.co.kr/article/25025893', 'https://www.seoul.co.kr/news/newsView.php?id=20211123500106&wlog_tag3=naver', 'http://www.wowtv.co.kr/NewsCenter/News/Read?articleId=A202111130018&t=NN', 'http://www.segye.com/content/html/2021/11/17/20211117519596.html?OutUrl=naver', 'https://www.cnbnews.com/news/article.html?no=520191']\n",
      "\n",
      "['버려지는 동물로 돈벌이...세금도 부정하게 수급했다', '[수의학 A to Z] 동물의 죽음과 동물복지 [V：3부]', \"[신간]웹툰으로 보는 '우리가 몰랐던 진짜 동물병원 이야기'\", '앞발 잘린 고양이도...이것은 방사인가, 유기인가', '수준 낮은 반려동물센터...5년 만에 재건립', '네발 잘렸는데 이제 뛴다···\"안락사\" 밖에 없다던 유기견의 기적', '귀엽다고 할 땐 언제고…‘님비(NIMBY) 현상’에 가로막힌 공공 동물보호센터', '충북 유기동물 4분의 1 안락사…개체수 폭증', '“유기견 돌보며 힐링”… 동물복지센터 자원봉사 인기', '광주 북구 전미용 의원, 유기동물 입양 위한 제도적 지원 필요']\n"

      "['http://www.sisajournal.com/news/articleView.html?idxno=228658', 'http://www.fnnews.com/news/202111281105080972', 'http://news.kmib.co.kr/article/view.asp?arcid=0016513513&code=61122022&cp=nv', 'http://www.seoulfn.com/news/articleView.html?idxno=439237', 'https://www.pressian.com/pages/articles/2021112610012208124?utm_source=naver&utm_medium=search', 'http://www.dailyvet.co.kr/news/interview/156770', 'https://www.pressian.com/pages/articles/2021112409495549279?utm_source=naver&utm_medium=search', 'https://hankookilbo.com/News/Read/A2021112308580001147?did=NA', 'http://monthly.chosun.com/client/mdaily/daily_view.asp?idx=14029&Newsnumb=20211114029', 'https://www.news1.kr/articles/?4504393']\n",
      "\n",
      "[\"유기동물 보호소 표방한 '신종 펫숍' 주의보 [따듯한 동물사전]\", '갤러리아百, 유기동물 보호 메시지 담은 쇼핑백 제작', '경주시 버림받는 반려동물 보호 앞장…동물보호센터 준공', '갤러리아백화점, 유기동물 보호 주제 쇼핑백 제작', '버려지는 동물로 돈벌이...세금도 부정하게 수급했다', '[수의학 A to Z] 동물의 죽음과 동물복지 [V：3부]', '앞발 잘린 고양이도...이것은 방사인가, 유기인가', '\"18년째 보호소 운영\" 동물 위해 나선 스타들', '동물권 향상을 위한 국회 모임 ‘동심’, 천사들의보금자리에서 봉사 활동 | 노련, 동심에 아르테미스 H.I.T. 사료 500kg 기부', \"[신간]웹툰으로 보는 '우리가 몰랐던 진짜 동물병원 이야기'\"]\n"

     ]
    },
    {
     "name": "stderr",
     "output_type": "stream",
     "text": [

      "127.0.0.1 - - [26/Nov/2021 19:27:15] \"\u001b[33mPOST /pawinhandCrawling HTTP/1.1\u001b[0m\" 404 -\n",
      "127.0.0.1 - - [26/Nov/2021 19:27:17] \"\u001b[37mPOST /pythonCrawlNews HTTP/1.1\u001b[0m\" 200 -\n"

      "127.0.0.1 - - [01/Dec/2021 16:02:32] \"\u001b[33mPOST /pawinhandCrawling HTTP/1.1\u001b[0m\" 404 -\n",
      "127.0.0.1 - - [01/Dec/2021 16:07:10] \"\u001b[33mPOST /pawinhandCrawling HTTP/1.1\u001b[0m\" 404 -\n",
      "127.0.0.1 - - [01/Dec/2021 16:07:13] \"\u001b[37mPOST /pythonCrawlNews HTTP/1.1\u001b[0m\" 200 -\n"

     ]
    },
    {
     "name": "stdout",
     "output_type": "stream",
     "text": [

      "['https://www.pressian.com/pages/articles/2021112610012208124?utm_source=naver&utm_medium=search', 'http://www.dailyvet.co.kr/news/interview/156770', 'https://www.news1.kr/articles/?4504393', 'https://www.pressian.com/pages/articles/2021112409495549279?utm_source=naver&utm_medium=search', 'https://www.cjb.co.kr/home/sub.php?menukey=61&mod=view&P_NO=211122087&PRO_CODE=4', 'https://www.joongang.co.kr/article/25025893', 'https://www.seoul.co.kr/news/newsView.php?id=20211123500106&wlog_tag3=naver', 'http://www.wowtv.co.kr/NewsCenter/News/Read?articleId=A202111130018&t=NN', 'http://www.segye.com/content/html/2021/11/17/20211117519596.html?OutUrl=naver', 'https://www.cnbnews.com/news/article.html?no=520191']\n",
      "\n",
      "['버려지는 동물로 돈벌이...세금도 부정하게 수급했다', '[수의학 A to Z] 동물의 죽음과 동물복지 [V：3부]', \"[신간]웹툰으로 보는 '우리가 몰랐던 진짜 동물병원 이야기'\", '앞발 잘린 고양이도...이것은 방사인가, 유기인가', '수준 낮은 반려동물센터...5년 만에 재건립', '네발 잘렸는데 이제 뛴다···\"안락사\" 밖에 없다던 유기견의 기적', '귀엽다고 할 땐 언제고…‘님비(NIMBY) 현상’에 가로막힌 공공 동물보호센터', '충북 유기동물 4분의 1 안락사…개체수 폭증', '“유기견 돌보며 힐링”… 동물복지센터 자원봉사 인기', '광주 북구 전미용 의원, 유기동물 입양 위한 제도적 지원 필요']\n",
      "['https://www.pressian.com/pages/articles/2021112610012208124?utm_source=naver&utm_medium=search', 'http://www.dailyvet.co.kr/news/interview/156770', 'https://www.news1.kr/articles/?4504393', 'https://www.pressian.com/pages/articles/2021112409495549279?utm_source=naver&utm_medium=search', 'https://www.cjb.co.kr/home/sub.php?menukey=61&mod=view&P_NO=211122087&PRO_CODE=4', 'https://www.joongang.co.kr/article/25025893', 'https://www.seoul.co.kr/news/newsView.php?id=20211123500106&wlog_tag3=naver', 'http://www.wowtv.co.kr/NewsCenter/News/Read?articleId=A202111130018&t=NN', 'http://www.segye.com/content/html/2021/11/17/20211117519596.html?OutUrl=naver', 'https://www.cnbnews.com/news/article.html?no=520191']\n",
      "\n",
      "['버려지는 동물로 돈벌이...세금도 부정하게 수급했다', '[수의학 A to Z] 동물의 죽음과 동물복지 [V：3부]', \"[신간]웹툰으로 보는 '우리가 몰랐던 진짜 동물병원 이야기'\", '앞발 잘린 고양이도...이것은 방사인가, 유기인가', '수준 낮은 반려동물센터...5년 만에 재건립', '네발 잘렸는데 이제 뛴다···\"안락사\" 밖에 없다던 유기견의 기적', '귀엽다고 할 땐 언제고…‘님비(NIMBY) 현상’에 가로막힌 공공 동물보호센터', '충북 유기동물 4분의 1 안락사…개체수 폭증', '“유기견 돌보며 힐링”… 동물복지센터 자원봉사 인기', '광주 북구 전미용 의원, 유기동물 입양 위한 제도적 지원 필요']\n"
     ]
    },
    {
     "name": "stderr",
     "output_type": "stream",
     "text": [
      "127.0.0.1 - - [26/Nov/2021 19:29:33] \"\u001b[33mPOST /pawinhandCrawling HTTP/1.1\u001b[0m\" 404 -\n",
      "127.0.0.1 - - [26/Nov/2021 19:29:36] \"\u001b[37mPOST /pythonCrawlNews HTTP/1.1\u001b[0m\" 200 -\n",
      "127.0.0.1 - - [26/Nov/2021 19:30:24] \"\u001b[33mPOST /pawinhandCrawling HTTP/1.1\u001b[0m\" 404 -\n",
      "127.0.0.1 - - [26/Nov/2021 19:30:25] \"\u001b[37mPOST /pythonCrawlNews HTTP/1.1\u001b[0m\" 200 -\n"
     ]
    },
    {
     "name": "stdout",
     "output_type": "stream",
     "text": [
      "['https://www.pressian.com/pages/articles/2021112610012208124?utm_source=naver&utm_medium=search', 'http://www.dailyvet.co.kr/news/interview/156770', 'https://www.news1.kr/articles/?4504393', 'https://www.pressian.com/pages/articles/2021112409495549279?utm_source=naver&utm_medium=search', 'https://www.cjb.co.kr/home/sub.php?menukey=61&mod=view&P_NO=211122087&PRO_CODE=4', 'https://www.joongang.co.kr/article/25025893', 'https://www.seoul.co.kr/news/newsView.php?id=20211123500106&wlog_tag3=naver', 'http://www.wowtv.co.kr/NewsCenter/News/Read?articleId=A202111130018&t=NN', 'http://www.segye.com/content/html/2021/11/17/20211117519596.html?OutUrl=naver', 'https://www.cnbnews.com/news/article.html?no=520191']\n",
      "\n",
      "['버려지는 동물로 돈벌이...세금도 부정하게 수급했다', '[수의학 A to Z] 동물의 죽음과 동물복지 [V：3부]', \"[신간]웹툰으로 보는 '우리가 몰랐던 진짜 동물병원 이야기'\", '앞발 잘린 고양이도...이것은 방사인가, 유기인가', '수준 낮은 반려동물센터...5년 만에 재건립', '네발 잘렸는데 이제 뛴다···\"안락사\" 밖에 없다던 유기견의 기적', '귀엽다고 할 땐 언제고…‘님비(NIMBY) 현상’에 가로막힌 공공 동물보호센터', '충북 유기동물 4분의 1 안락사…개체수 폭증', '“유기견 돌보며 힐링”… 동물복지센터 자원봉사 인기', '광주 북구 전미용 의원, 유기동물 입양 위한 제도적 지원 필요']\n"
     ]
    },
    {
     "name": "stderr",
     "output_type": "stream",
     "text": [
      "127.0.0.1 - - [26/Nov/2021 19:31:31] \"\u001b[33mPOST /pawinhandCrawling HTTP/1.1\u001b[0m\" 404 -\n",
      "127.0.0.1 - - [26/Nov/2021 19:31:33] \"\u001b[37mPOST /pythonCrawlNews HTTP/1.1\u001b[0m\" 200 -\n"
     ]
    },
    {
     "name": "stdout",
     "output_type": "stream",
     "text": [
      "['https://www.pressian.com/pages/articles/2021112610012208124?utm_source=naver&utm_medium=search', 'http://www.dailyvet.co.kr/news/interview/156770', 'https://www.news1.kr/articles/?4504393', 'https://www.pressian.com/pages/articles/2021112409495549279?utm_source=naver&utm_medium=search', 'https://www.cjb.co.kr/home/sub.php?menukey=61&mod=view&P_NO=211122087&PRO_CODE=4', 'https://www.joongang.co.kr/article/25025893', 'https://www.seoul.co.kr/news/newsView.php?id=20211123500106&wlog_tag3=naver', 'http://www.wowtv.co.kr/NewsCenter/News/Read?articleId=A202111130018&t=NN', 'http://www.segye.com/content/html/2021/11/17/20211117519596.html?OutUrl=naver', 'https://www.cnbnews.com/news/article.html?no=520191']\n",
      "\n",
      "['버려지는 동물로 돈벌이...세금도 부정하게 수급했다', '[수의학 A to Z] 동물의 죽음과 동물복지 [V：3부]', \"[신간]웹툰으로 보는 '우리가 몰랐던 진짜 동물병원 이야기'\", '앞발 잘린 고양이도...이것은 방사인가, 유기인가', '수준 낮은 반려동물센터...5년 만에 재건립', '네발 잘렸는데 이제 뛴다···\"안락사\" 밖에 없다던 유기견의 기적', '귀엽다고 할 땐 언제고…‘님비(NIMBY) 현상’에 가로막힌 공공 동물보호센터', '충북 유기동물 4분의 1 안락사…개체수 폭증', '“유기견 돌보며 힐링”… 동물복지센터 자원봉사 인기', '광주 북구 전미용 의원, 유기동물 입양 위한 제도적 지원 필요']\n"
     ]
    },
    {
     "name": "stderr",
     "output_type": "stream",
     "text": [
      "127.0.0.1 - - [26/Nov/2021 19:32:30] \"\u001b[33mPOST /pawinhandCrawling HTTP/1.1\u001b[0m\" 404 -\n",
      "127.0.0.1 - - [26/Nov/2021 19:32:36] \"\u001b[37mPOST /pythonCrawlNews HTTP/1.1\u001b[0m\" 200 -\n"
     ]
    },
    {
     "name": "stdout",
     "output_type": "stream",
     "text": [
      "['https://www.pressian.com/pages/articles/2021112610012208124?utm_source=naver&utm_medium=search', 'http://www.dailyvet.co.kr/news/interview/156770', 'https://www.news1.kr/articles/?4504393', 'https://www.pressian.com/pages/articles/2021112409495549279?utm_source=naver&utm_medium=search', 'https://www.cjb.co.kr/home/sub.php?menukey=61&mod=view&P_NO=211122087&PRO_CODE=4', 'https://www.joongang.co.kr/article/25025893', 'https://www.seoul.co.kr/news/newsView.php?id=20211123500106&wlog_tag3=naver', 'http://www.wowtv.co.kr/NewsCenter/News/Read?articleId=A202111130018&t=NN', 'http://www.segye.com/content/html/2021/11/17/20211117519596.html?OutUrl=naver', 'https://www.cnbnews.com/news/article.html?no=520191']\n",
      "\n",
      "['버려지는 동물로 돈벌이...세금도 부정하게 수급했다', '[수의학 A to Z] 동물의 죽음과 동물복지 [V：3부]', \"[신간]웹툰으로 보는 '우리가 몰랐던 진짜 동물병원 이야기'\", '앞발 잘린 고양이도...이것은 방사인가, 유기인가', '수준 낮은 반려동물센터...5년 만에 재건립', '네발 잘렸는데 이제 뛴다···\"안락사\" 밖에 없다던 유기견의 기적', '귀엽다고 할 땐 언제고…‘님비(NIMBY) 현상’에 가로막힌 공공 동물보호센터', '충북 유기동물 4분의 1 안락사…개체수 폭증', '“유기견 돌보며 힐링”… 동물복지센터 자원봉사 인기', '광주 북구 전미용 의원, 유기동물 입양 위한 제도적 지원 필요']\n"
     ]
    },
    {
     "name": "stderr",
     "output_type": "stream",
     "text": [
      "127.0.0.1 - - [26/Nov/2021 19:32:47] \"\u001b[33mPOST /pawinhandCrawling HTTP/1.1\u001b[0m\" 404 -\n",
      "127.0.0.1 - - [26/Nov/2021 19:32:49] \"\u001b[37mPOST /pythonCrawlNews HTTP/1.1\u001b[0m\" 200 -\n"
     ]
    },
    {
     "name": "stdout",
     "output_type": "stream",
     "text": [
      "['https://www.pressian.com/pages/articles/2021112610012208124?utm_source=naver&utm_medium=search', 'http://www.dailyvet.co.kr/news/interview/156770', 'https://www.news1.kr/articles/?4504393', 'https://www.pressian.com/pages/articles/2021112409495549279?utm_source=naver&utm_medium=search', 'https://www.cjb.co.kr/home/sub.php?menukey=61&mod=view&P_NO=211122087&PRO_CODE=4', 'https://www.joongang.co.kr/article/25025893', 'https://www.seoul.co.kr/news/newsView.php?id=20211123500106&wlog_tag3=naver', 'http://www.wowtv.co.kr/NewsCenter/News/Read?articleId=A202111130018&t=NN', 'http://www.segye.com/content/html/2021/11/17/20211117519596.html?OutUrl=naver', 'https://www.cnbnews.com/news/article.html?no=520191']\n",
      "\n",
      "['버려지는 동물로 돈벌이...세금도 부정하게 수급했다', '[수의학 A to Z] 동물의 죽음과 동물복지 [V：3부]', \"[신간]웹툰으로 보는 '우리가 몰랐던 진짜 동물병원 이야기'\", '앞발 잘린 고양이도...이것은 방사인가, 유기인가', '수준 낮은 반려동물센터...5년 만에 재건립', '네발 잘렸는데 이제 뛴다···\"안락사\" 밖에 없다던 유기견의 기적', '귀엽다고 할 땐 언제고…‘님비(NIMBY) 현상’에 가로막힌 공공 동물보호센터', '충북 유기동물 4분의 1 안락사…개체수 폭증', '“유기견 돌보며 힐링”… 동물복지센터 자원봉사 인기', '광주 북구 전미용 의원, 유기동물 입양 위한 제도적 지원 필요']\n"
     ]
    },
    {
     "name": "stderr",
     "output_type": "stream",
     "text": [
      "127.0.0.1 - - [26/Nov/2021 19:33:51] \"\u001b[33mPOST /pawinhandCrawling HTTP/1.1\u001b[0m\" 404 -\n",
      "127.0.0.1 - - [26/Nov/2021 19:33:53] \"\u001b[37mPOST /pythonCrawlNews HTTP/1.1\u001b[0m\" 200 -\n"
     ]
    },
    {
     "name": "stdout",
     "output_type": "stream",
     "text": [
      "['https://www.pressian.com/pages/articles/2021112610012208124?utm_source=naver&utm_medium=search', 'http://www.dailyvet.co.kr/news/interview/156770', 'https://www.news1.kr/articles/?4504393', 'https://www.pressian.com/pages/articles/2021112409495549279?utm_source=naver&utm_medium=search', 'https://www.cjb.co.kr/home/sub.php?menukey=61&mod=view&P_NO=211122087&PRO_CODE=4', 'https://www.joongang.co.kr/article/25025893', 'https://www.seoul.co.kr/news/newsView.php?id=20211123500106&wlog_tag3=naver', 'http://www.wowtv.co.kr/NewsCenter/News/Read?articleId=A202111130018&t=NN', 'http://www.segye.com/content/html/2021/11/17/20211117519596.html?OutUrl=naver', 'https://www.cnbnews.com/news/article.html?no=520191']\n",
      "\n",
      "['버려지는 동물로 돈벌이...세금도 부정하게 수급했다', '[수의학 A to Z] 동물의 죽음과 동물복지 [V：3부]', \"[신간]웹툰으로 보는 '우리가 몰랐던 진짜 동물병원 이야기'\", '앞발 잘린 고양이도...이것은 방사인가, 유기인가', '수준 낮은 반려동물센터...5년 만에 재건립', '네발 잘렸는데 이제 뛴다···\"안락사\" 밖에 없다던 유기견의 기적', '귀엽다고 할 땐 언제고…‘님비(NIMBY) 현상’에 가로막힌 공공 동물보호센터', '충북 유기동물 4분의 1 안락사…개체수 폭증', '“유기견 돌보며 힐링”… 동물복지센터 자원봉사 인기', '광주 북구 전미용 의원, 유기동물 입양 위한 제도적 지원 필요']\n",
      "['https://www.pressian.com/pages/articles/2021112610012208124?utm_source=naver&utm_medium=search', 'http://www.dailyvet.co.kr/news/interview/156770', 'https://www.news1.kr/articles/?4504393', 'https://www.pressian.com/pages/articles/2021112409495549279?utm_source=naver&utm_medium=search', 'https://www.cjb.co.kr/home/sub.php?menukey=61&mod=view&P_NO=211122087&PRO_CODE=4', 'https://www.joongang.co.kr/article/25025893', 'https://www.seoul.co.kr/news/newsView.php?id=20211123500106&wlog_tag3=naver', 'http://www.wowtv.co.kr/NewsCenter/News/Read?articleId=A202111130018&t=NN', 'http://www.segye.com/content/html/2021/11/17/20211117519596.html?OutUrl=naver', 'https://www.cnbnews.com/news/article.html?no=520191']\n",
      "\n",
      "['버려지는 동물로 돈벌이...세금도 부정하게 수급했다', '[수의학 A to Z] 동물의 죽음과 동물복지 [V：3부]', \"[신간]웹툰으로 보는 '우리가 몰랐던 진짜 동물병원 이야기'\", '앞발 잘린 고양이도...이것은 방사인가, 유기인가', '수준 낮은 반려동물센터...5년 만에 재건립', '네발 잘렸는데 이제 뛴다···\"안락사\" 밖에 없다던 유기견의 기적', '귀엽다고 할 땐 언제고…‘님비(NIMBY) 현상’에 가로막힌 공공 동물보호센터', '충북 유기동물 4분의 1 안락사…개체수 폭증', '“유기견 돌보며 힐링”… 동물복지센터 자원봉사 인기', '광주 북구 전미용 의원, 유기동물 입양 위한 제도적 지원 필요']\n"
     ]
    },
    {
     "name": "stderr",
     "output_type": "stream",
     "text": [
      "127.0.0.1 - - [26/Nov/2021 19:35:55] \"\u001b[33mPOST /pawinhandCrawling HTTP/1.1\u001b[0m\" 404 -\n",
      "127.0.0.1 - - [26/Nov/2021 19:35:57] \"\u001b[37mPOST /pythonCrawlNews HTTP/1.1\u001b[0m\" 200 -\n"

      "['http://www.sisajournal.com/news/articleView.html?idxno=228658', 'http://www.fnnews.com/news/202111281105080972', 'http://news.kmib.co.kr/article/view.asp?arcid=0016513513&code=61122022&cp=nv', 'http://www.seoulfn.com/news/articleView.html?idxno=439237', 'https://www.pressian.com/pages/articles/2021112610012208124?utm_source=naver&utm_medium=search', 'http://www.dailyvet.co.kr/news/interview/156770', 'https://www.pressian.com/pages/articles/2021112409495549279?utm_source=naver&utm_medium=search', 'https://hankookilbo.com/News/Read/A2021112308580001147?did=NA', 'http://monthly.chosun.com/client/mdaily/daily_view.asp?idx=14029&Newsnumb=20211114029', 'https://www.news1.kr/articles/?4504393']\n",
      "\n",
      "[\"유기동물 보호소 표방한 '신종 펫숍' 주의보 [따듯한 동물사전]\", '갤러리아百, 유기동물 보호 메시지 담은 쇼핑백 제작', '경주시 버림받는 반려동물 보호 앞장…동물보호센터 준공', '갤러리아백화점, 유기동물 보호 주제 쇼핑백 제작', '버려지는 동물로 돈벌이...세금도 부정하게 수급했다', '[수의학 A to Z] 동물의 죽음과 동물복지 [V：3부]', '앞발 잘린 고양이도...이것은 방사인가, 유기인가', '\"18년째 보호소 운영\" 동물 위해 나선 스타들', '동물권 향상을 위한 국회 모임 ‘동심’, 천사들의보금자리에서 봉사 활동 | 노련, 동심에 아르테미스 H.I.T. 사료 500kg 기부', \"[신간]웹툰으로 보는 '우리가 몰랐던 진짜 동물병원 이야기'\"]\n"

     ]
    }
   ],
   "source": [
    "app = Flask(__name__)\n",
    "CORS(app)\n",
    "\n",
    "@app.route('/pythonCrawlNews', methods = ['GET', 'POST'])\n",
    "def pythonCrawlNews():\n",
    "\n",
    "    url = \"https://search.naver.com/search.naver?where=news&sm=tab_jum&query=\"\n",
    "\n",
    "    options = webdriver.ChromeOptions()\n",
    "    options.add_argument('--headless')\n",
    "    options.add_argument('--window-size=1024,768')\n",
    "    options.add_argument('--disable-gpu')\n",
    "\n",
    "    text = '유기동물+안락사'\n",
    "\n",
    "    driver = webdriver.Chrome(r\"C:\\chromedriver.exe\", options = options)\n",
    "\n",
    "    search_url = url + text\n",
    "    driver.get(url = search_url)\n",
    "\n",
    "    allContents = driver.find_elements_by_css_selector(\n",
    "        \"#main_pack > section.sc_new.sp_nnews._prs_nws > div > div.group_news > ul > li > div.news_wrap.api_ani_send > div > a\"\n",
    "    )\n",
    "\n",
    "    hrefURL = []\n",
    "    titleName = []\n",
    "\n",
    "    for item in allContents:\n",
    "        if (item != ''):\n",
    "            hrefURL.append(item.get_attribute('href'))\n",
    "            titleName.append(item.get_attribute('title'))\n",
    "\n",
    "    print(hrefURL)\n",
    "    print()\n",
    "    print(titleName)\n",
    "    driver.close()\n",
    "    \n",
    "    return jsonify(titleName, hrefURL)\n",
    "\n",
    "if __name__ == \"__main__\":\n",
    "    app.run()"
   ]
  },
  {
   "cell_type": "code",
   "execution_count": null,
   "id": "d8778fac",
   "metadata": {},
   "outputs": [],
   "source": []
  }
 ],
 "metadata": {
  "kernelspec": {
   "display_name": "Python 3",
   "language": "python",
   "name": "python3"
  },
  "language_info": {
   "codemirror_mode": {
    "name": "ipython",
    "version": 3
   },
   "file_extension": ".py",
   "mimetype": "text/x-python",
   "name": "python",
   "nbconvert_exporter": "python",
   "pygments_lexer": "ipython3",
   "version": "3.8.8"
  }
 },
 "nbformat": 4,
 "nbformat_minor": 5
}
