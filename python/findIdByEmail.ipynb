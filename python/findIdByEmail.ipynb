{
 "cells": [
  {
   "cell_type": "code",
   "execution_count": 2,
   "id": "f6417b3f",
   "metadata": {},
   "outputs": [],
   "source": [
    "from flask import Flask, url_for, request, jsonify\n",
    "from flask_cors import CORS, cross_origin\n",
    "\n",
    "import json\n",
    "import requests"
   ]
  },
  {
   "cell_type": "code",
   "execution_count": 3,
   "id": "4475f762",
   "metadata": {},
   "outputs": [],
   "source": [
    "import smtplib\n",
    "\n",
    "from email.mime.text import MIMEText\n",
    "\n",
    "from email import encoders"
   ]
  },
  {
   "cell_type": "code",
   "execution_count": 4,
   "id": "12c8f501",
   "metadata": {},
   "outputs": [],
   "source": [
    "def send_email(smtp_info, msg):\n",
    "    with smtplib.SMTP(smtp_info[\"smtp_server\"], smtp_info[\"smtp_port\"]) as server:\n",
    "        server.starttls()\n",
    "        \n",
    "        server.login(smtp_info[\"smtp_user_id\"], smtp_info[\"smtp_user_pw\"])\n",
    "        \n",
    "        res = server.sendmail(msg['from'], msg['to'], msg.as_string())\n",
    "        \n",
    "        if not res:\n",
    "            print('이메일 전송 성공')\n",
    "        else:\n",
    "            print(res)"
   ]
  },
  {
   "cell_type": "code",
   "execution_count": 5,
   "id": "78f577fa",
   "metadata": {},
   "outputs": [
    {
     "ename": "NameError",
     "evalue": "name 'Flask' is not defined",
     "output_type": "error",
     "traceback": [
      "\u001b[1;31m---------------------------------------------------------------------------\u001b[0m",
      "\u001b[1;31mNameError\u001b[0m                                 Traceback (most recent call last)",
      "\u001b[1;32m<ipython-input-1-226e1ebbfd3f>\u001b[0m in \u001b[0;36m<module>\u001b[1;34m\u001b[0m\n\u001b[1;32m----> 1\u001b[1;33m \u001b[0mapp\u001b[0m \u001b[1;33m=\u001b[0m \u001b[0mFlask\u001b[0m\u001b[1;33m(\u001b[0m\u001b[0m__name__\u001b[0m\u001b[1;33m)\u001b[0m\u001b[1;33m\u001b[0m\u001b[1;33m\u001b[0m\u001b[0m\n\u001b[0m\u001b[0;32m      2\u001b[0m \u001b[0mCORS\u001b[0m\u001b[1;33m(\u001b[0m\u001b[0mapp\u001b[0m\u001b[1;33m)\u001b[0m\u001b[1;33m\u001b[0m\u001b[1;33m\u001b[0m\u001b[0m\n\u001b[0;32m      3\u001b[0m \u001b[1;33m\u001b[0m\u001b[0m\n\u001b[0;32m      4\u001b[0m \u001b[1;33m@\u001b[0m\u001b[0mapp\u001b[0m\u001b[1;33m.\u001b[0m\u001b[0mroute\u001b[0m\u001b[1;33m(\u001b[0m\u001b[1;34m'/findIdAndPwByEmail'\u001b[0m\u001b[1;33m,\u001b[0m \u001b[0mmethods\u001b[0m \u001b[1;33m=\u001b[0m \u001b[1;33m[\u001b[0m\u001b[1;34m'GET'\u001b[0m\u001b[1;33m,\u001b[0m \u001b[1;34m'POST'\u001b[0m\u001b[1;33m]\u001b[0m\u001b[1;33m)\u001b[0m\u001b[1;33m\u001b[0m\u001b[1;33m\u001b[0m\u001b[0m\n\u001b[0;32m      5\u001b[0m \u001b[1;32mdef\u001b[0m \u001b[0mfindIdAndPwByEmail\u001b[0m\u001b[1;33m(\u001b[0m\u001b[1;33m)\u001b[0m\u001b[1;33m:\u001b[0m\u001b[1;33m\u001b[0m\u001b[1;33m\u001b[0m\u001b[0m\n",
      "\u001b[1;31mNameError\u001b[0m: name 'Flask' is not defined"
     ]
    }
   ],
   "source": [
    "app = Flask(__name__)\n",
    "CORS(app)\n",
    "\n",
    "@app.route('/findIdAndPwByEmail', methods = ['GET', 'POST'])\n",
    "def findIdAndPwByEmail():\n",
    "    \n",
    "    params = json.loads(request.get_data(), encoding='utf-8')\n",
    "    print(\"params: \", params)\n",
    "    \n",
    "    values = []\n",
    "    for key in params.keys():\n",
    "        values.append(params[key])\n",
    "    \n",
    "    smtp_info = dict({\n",
    "        \"smtp_server\": \"smtp.naver.com\",\n",
    "        \"smtp_user_id\": \"@naver.com\", #저희가 사용할 공용 이메일\n",
    "        \"smtp_user_pw\": \"\", #그것의 비번\n",
    "        \"smtp_port\": 587\n",
    "    })\n",
    "    \n",
    "    if values[2] == None:\n",
    "\n",
    "        title = \"petto - 회원님의 ID입니다.\"\n",
    "        content = \"회원님의 id는 {0} 입니다.\".format(values[1])\n",
    "        sender = smtp_info['smtp_user_id']\n",
    "        receiver = values[0]\n",
    "\n",
    "        msg = MIMEText(_text = content, _charset = \"utf-8\")\n",
    "\n",
    "        msg['Subject'] = title\n",
    "        msg['From'] = sender\n",
    "        msg['To'] = receiver\n",
    "\n",
    "        send_email(smtp_info, msg)\n",
    "\n",
    "        data = { \"success\": True }\n",
    "\n",
    "        return jsonify(data)\n",
    "    \n",
    "    elif values[1] == None:\n",
    "        \n",
    "        title = \"petto - 비밀번호 인증 코드입니다.\"\n",
    "        content = \"인증코드는 {0} 입니다.\".format(values[2])\n",
    "        sender = smtp_info['smtp_user_id']\n",
    "        receiver = values[0]\n",
    "        \n",
    "        msg = MIMEText(_text = content, _charset = \"utf-8\")\n",
    "\n",
    "        msg['Subject'] = title\n",
    "        msg['From'] = sender\n",
    "        msg['To'] = receiver\n",
    "\n",
    "        send_email(smtp_info, msg)\n",
    "\n",
    "        data = { \"success\": True }\n",
    "\n",
    "        return jsonify(data)\n",
    "        \n",
    "if __name__ == \"__main__\":\n",
    "    app.run()"
   ]
  },
  {
   "cell_type": "code",
   "execution_count": null,
   "id": "5eaee5bf",
   "metadata": {},
   "outputs": [],
   "source": []
  }
 ],
 "metadata": {
  "kernelspec": {
   "display_name": "Python 3",
   "language": "python",
   "name": "python3"
  },
  "language_info": {
   "codemirror_mode": {
    "name": "ipython",
    "version": 3
   },
   "file_extension": ".py",
   "mimetype": "text/x-python",
   "name": "python",
   "nbconvert_exporter": "python",
   "pygments_lexer": "ipython3",
   "version": "3.8.8"
  }
 },
 "nbformat": 4,
 "nbformat_minor": 5
}
