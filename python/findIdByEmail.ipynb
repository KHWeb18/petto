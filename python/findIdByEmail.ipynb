{
 "cells": [
  {
   "cell_type": "code",
   "execution_count": 8,
   "id": "f6417b3f",
   "metadata": {},
   "outputs": [],
   "source": [
    "from flask import Flask, url_for, request, jsonify\n",
    "from flask_cors import CORS, cross_origin\n",
    "\n",
    "import json\n",
    "import requests"
   ]
  },
  {
   "cell_type": "code",
   "execution_count": 9,
   "id": "4475f762",
   "metadata": {},
   "outputs": [],
   "source": [
    "import smtplib\n",
    "\n",
    "from email.mime.text import MIMEText\n",
    "\n",
    "from email import encoders"
   ]
  },
  {
   "cell_type": "code",
   "execution_count": 10,
   "id": "12c8f501",
   "metadata": {},
   "outputs": [],
   "source": [
    "def send_email(smtp_info, msg):\n",
    "    with smtplib.SMTP(smtp_info[\"smtp_server\"], smtp_info[\"smtp_port\"]) as server:\n",
    "        server.starttls()\n",
    "        \n",
    "        server.login(smtp_info[\"smtp_user_id\"], smtp_info[\"smtp_user_pw\"])\n",
    "        \n",
    "        res = server.sendmail(msg['from'], msg['to'], msg.as_string())\n",
    "        \n",
    "        if not res:\n",
    "            print('이메일 전송 성공')\n",
    "        else:\n",
    "            print(res)"
   ]
  },
  {
   "cell_type": "code",
   "execution_count": null,
   "id": "78f577fa",
   "metadata": {},
   "outputs": [
    {
     "name": "stdout",
     "output_type": "stream",
     "text": [
      " * Serving Flask app \"__main__\" (lazy loading)\n",
      " * Environment: production\n",
      "   WARNING: This is a development server. Do not use it in a production deployment.\n",
      "   Use a production WSGI server instead.\n",
      " * Debug mode: off\n"
     ]
    },
    {
     "name": "stderr",
     "output_type": "stream",
     "text": [
      " * Running on http://127.0.0.1:5000/ (Press CTRL+C to quit)\n",
      "<ipython-input-11-1bbe5f8c4407>:7: DeprecationWarning: 'encoding' is ignored and deprecated. It will be removed in Python 3.9\n",
      "  params = json.loads(request.get_data(), encoding='utf-8')\n",
      "[2021-10-18 21:57:07,518] ERROR in app: Exception on /findIdAndPwByEmail [POST]\n",
      "Traceback (most recent call last):\n",
      "  File \"C:\\ProgramData\\anaconda3\\lib\\site-packages\\flask\\app.py\", line 2447, in wsgi_app\n",
      "    response = self.full_dispatch_request()\n",
      "  File \"C:\\ProgramData\\anaconda3\\lib\\site-packages\\flask\\app.py\", line 1952, in full_dispatch_request\n",
      "    rv = self.handle_user_exception(e)\n",
      "  File \"C:\\ProgramData\\anaconda3\\lib\\site-packages\\flask_cors\\extension.py\", line 165, in wrapped_function\n",
      "    return cors_after_request(app.make_response(f(*args, **kwargs)))\n",
      "  File \"C:\\ProgramData\\anaconda3\\lib\\site-packages\\flask\\app.py\", line 1821, in handle_user_exception\n",
      "    reraise(exc_type, exc_value, tb)\n",
      "  File \"C:\\ProgramData\\anaconda3\\lib\\site-packages\\flask\\_compat.py\", line 39, in reraise\n",
      "    raise value\n",
      "  File \"C:\\ProgramData\\anaconda3\\lib\\site-packages\\flask\\app.py\", line 1950, in full_dispatch_request\n",
      "    rv = self.dispatch_request()\n",
      "  File \"C:\\ProgramData\\anaconda3\\lib\\site-packages\\flask\\app.py\", line 1936, in dispatch_request\n",
      "    return self.view_functions[rule.endpoint](**req.view_args)\n",
      "  File \"<ipython-input-11-1bbe5f8c4407>\", line 34, in findIdAndPwByEmail\n",
      "    send_email(smtp_info, msg)\n",
      "  File \"<ipython-input-10-af7b073fef26>\", line 5, in send_email\n",
      "    server.login(smtp_info[\"smtp_user_id\"], smtp_info[\"smtp_user_pw\"])\n",
      "  File \"C:\\ProgramData\\anaconda3\\lib\\smtplib.py\", line 732, in login\n",
      "    raise last_exception\n",
      "  File \"C:\\ProgramData\\anaconda3\\lib\\smtplib.py\", line 721, in login\n",
      "    (code, resp) = self.auth(\n",
      "  File \"C:\\ProgramData\\anaconda3\\lib\\smtplib.py\", line 644, in auth\n",
      "    raise SMTPAuthenticationError(code, resp)\n",
      "smtplib.SMTPAuthenticationError: (535, b'5.7.1 Username and Password not accepted JRa8ahd3TH2sxPhRt68BXQ - nsmtp')\n",
      "127.0.0.1 - - [18/Oct/2021 21:57:07] \"\u001b[35m\u001b[1mPOST /findIdAndPwByEmail HTTP/1.1\u001b[0m\" 500 -\n"
     ]
    },
    {
     "name": "stdout",
     "output_type": "stream",
     "text": [
      "params:  {'email': 'wervf8@naver.com', 'id': 'limcholong', 'code': None}\n"
     ]
    }
   ],
   "source": [
    "app = Flask(__name__)\n",
    "CORS(app)\n",
    "\n",
    "@app.route('/findIdAndPwByEmail', methods = ['GET', 'POST'])\n",
    "def findIdAndPwByEmail():\n",
    "    \n",
    "    params = json.loads(request.get_data(), encoding='utf-8')\n",
    "    print(\"params: \", params)\n",
    "    \n",
    "    values = []\n",
    "    for key in params.keys():\n",
    "        values.append(params[key])\n",
    "    \n",
    "    smtp_info = dict({\n",
    "        \"smtp_server\": \"smtp.naver.com\",\n",
    "        \"smtp_user_id\": \"wervf8@naver.com\", #저희가 사용할 공용 이메일\n",
    "        \"smtp_user_pw\": \"fkdlffkr486@\", #그것의 비번\n",
    "        \"smtp_port\": 587\n",
    "    })\n",
    "    \n",
    "    if values[2] == None:\n",
    "\n",
    "        title = \"petto - 회원님의 ID입니다.\"\n",
    "        content = \"회원님의 id는 {0} 입니다.\".format(values[1])\n",
    "        sender = smtp_info['smtp_user_id']\n",
    "        receiver = values[0]\n",
    "\n",
    "        msg = MIMEText(_text = content, _charset = \"utf-8\")\n",
    "\n",
    "        msg['Subject'] = title\n",
    "        msg['From'] = sender\n",
    "        msg['To'] = receiver\n",
    "\n",
    "        send_email(smtp_info, msg)\n",
    "\n",
    "        data = { \"success\": True }\n",
    "\n",
    "        return jsonify(data)\n",
    "    \n",
    "    elif values[1] == None:\n",
    "        \n",
    "        title = \"petto - 비밀번호 인증 코드입니다.\"\n",
    "        content = \"인증코드는 {0} 입니다.\".format(values[2])\n",
    "        sender = smtp_info['smtp_user_id']\n",
    "        receiver = values[0]\n",
    "        \n",
    "        msg = MIMEText(_text = content, _charset = \"utf-8\")\n",
    "\n",
    "        msg['Subject'] = title\n",
    "        msg['From'] = sender\n",
    "        msg['To'] = receiver\n",
    "\n",
    "        send_email(smtp_info, msg)\n",
    "\n",
    "        data = { \"success\": True }\n",
    "\n",
    "        return jsonify(data)\n",
    "        \n",
    "if __name__ == \"__main__\":\n",
    "    app.run()"
   ]
  },
  {
   "cell_type": "code",
   "execution_count": null,
   "id": "5eaee5bf",
   "metadata": {},
   "outputs": [],
   "source": []
  }
 ],
 "metadata": {
  "kernelspec": {
   "display_name": "Python 3",
   "language": "python",
   "name": "python3"
  },
  "language_info": {
   "codemirror_mode": {
    "name": "ipython",
    "version": 3
   },
   "file_extension": ".py",
   "mimetype": "text/x-python",
   "name": "python",
   "nbconvert_exporter": "python",
   "pygments_lexer": "ipython3",
   "version": "3.8.8"
  }
 },
 "nbformat": 4,
 "nbformat_minor": 5
}
