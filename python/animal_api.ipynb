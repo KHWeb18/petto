{
 "cells": [
  {
   "cell_type": "code",
   "execution_count": 3,
   "id": "700ddced",
   "metadata": {},
   "outputs": [
    {
     "name": "stdout",
     "output_type": "stream",
     "text": [
      "[START]\n",
      "[END]\n"
     ]
    }
   ],
   "source": [
    "import urllib.request\n",
    "import xml.dom.minidom\n",
    "\n",
    "#encodingKey = \"Pb5sqj3b91BrDtfuSMvO4ZiUVg6Vlneta%2BhbuowJVbc60Ztpm5iwBFhpax6DZaGY29ER2MPIeZkifvi0ktXOew%3D%3D\"\n",
    "#decodingKey = \"Pb5sqj3b91BrDtfuSMvO4ZiUVg6Vlneta+hbuowJVbc60Ztpm5iwBFhpax6DZaGY29ER2MPIeZkifvi0ktXOew==\"\n",
    "\n",
    "print(\"[START]\")\n",
    "\n",
    "# request url정의\n",
    "url = \"http://openapi.animal.go.kr/openapi/service/rest/abandonmentPublicSrvc/abandonmentPublic?ServiceKey=Pb5sqj3b91BrDtfuSMvO4ZiUVg6Vlneta%2BhbuowJVbc60Ztpm5iwBFhpax6DZaGY29ER2MPIeZkifvi0ktXOew%3D%3D&pageNo=1&numOfRows=10842\"\n",
    "request = urllib.request.Request(url)\n",
    "\n",
    "\n",
    "# request보내기\n",
    "response = urllib.request.urlopen(request)\n",
    "\n",
    "# 결과 코드 정의\n",
    "rescode = response.getcode()\n",
    "\n",
    "if(rescode==200):\n",
    "    response_body = response.read()\n",
    "    dom = xml.dom.minidom.parseString(response_body.decode('utf-8'))\n",
    "    pretty_xml_as_string = dom.toprettyxml()\n",
    "    #print(pretty_xml_as_string)\n",
    "else:\n",
    "    print(\"Error Code:\" + rescode)\n",
    "\n",
    "print(\"[END]\")"
   ]
  },
  {
   "cell_type": "code",
   "execution_count": 4,
   "id": "97c2d406",
   "metadata": {},
   "outputs": [],
   "source": [
    "from bs4 import BeautifulSoup\n",
    "import pandas\n",
    "\n",
    "soup = BeautifulSoup(pretty_xml_as_string)\n",
    "ItemList = soup.findAll('item')"
   ]
  },
  {
   "cell_type": "code",
   "execution_count": 5,
   "id": "7bb47976",
   "metadata": {},
   "outputs": [],
   "source": [
    "noticenoList = []\n",
    "noticesdtList = []\n",
    "noticeedtList = []\n",
    "\n",
    "popfileList = []\n",
    "kindcdList = []\n",
    "colorcdList = []\n",
    "ageList = []\n",
    "weightList = []\n",
    "processstateList = []\n",
    "sexcdList = []\n",
    "neuterynList = []\n",
    "specialmarkList = []\n",
    "\n",
    "happendtList = []\n",
    "happenplaceList = []\n",
    "\n",
    "carenmList = []\n",
    "caretelList = []\n",
    "careaddrList = []\n",
    "\n",
    "\n",
    "for item in ItemList:\n",
    "    \n",
    "    noticeno = item.find('noticeno').text      #공고번호\n",
    "    noticesdt = item.find('noticesdt').text #공고시작일\n",
    "    noticeedt = item.find('noticeedt').text   #공고종료일\n",
    "    \n",
    "    popfile = item.find('popfile').text #이미지\n",
    "    kindcd = item.find('kindcd').text  #품종\n",
    "    colorcd = item.find('colorcd').text      #색상\n",
    "    age = item.find('age').text #나이\n",
    "    weight = item.find('weight').text   #체중\n",
    "    processstate = item.find('processstate').text      #상태\n",
    "    sexcd = item.find('sexcd').text #성별\n",
    "    neuteryn = item.find('neuteryn').text   #중성화여부\n",
    "    specialmark = item.find('specialmark').text   #특징\n",
    "    \n",
    "    happendt = item.find('happendt').text   #접수일\n",
    "    happenplace = item.find('happenplace').text   #발견장소\n",
    "    \n",
    "    carenm = item.find('carenm').text   #보호소 이름\n",
    "    caretel = item.find('caretel').text   #보호소 전화번호\n",
    "    careaddr = item.find('careaddr').text   #보호장소\n",
    "\n",
    "    \n",
    "    \n",
    "    noticenoList.append(noticeno)\n",
    "    noticesdtList.append(noticesdt)\n",
    "    noticeedtList.append(noticeedt)\n",
    "\n",
    "    popfileList.append(popfile)\n",
    "    kindcdList.append(kindcd)\n",
    "    colorcdList.append(colorcd)\n",
    "    ageList.append(age)\n",
    "    weightList.append(weight)\n",
    "    processstateList.append(processstate)\n",
    "    sexcdList.append(sexcd)\n",
    "    neuterynList.append(neuteryn)\n",
    "    specialmarkList.append(specialmark)\n",
    "\n",
    "    happendtList.append(happendt)\n",
    "    happenplaceList.append(happenplace)\n",
    "\n",
    "    carenmList.append(carenm)\n",
    "    caretelList.append(caretel)\n",
    "    careaddrList.append(careaddr)\n"
   ]
  },
  {
   "cell_type": "code",
   "execution_count": 6,
   "id": "d282a015",
   "metadata": {},
   "outputs": [],
   "source": [
    "data = pandas.concat([pandas.DataFrame(noticenoList),pandas.DataFrame(noticesdtList),pandas.DataFrame(noticeedtList),\n",
    "                      pandas.DataFrame(popfileList),pandas.DataFrame(kindcdList),\n",
    "                      pandas.DataFrame(colorcdList),pandas.DataFrame(ageList),pandas.DataFrame(weightList),\n",
    "                      pandas.DataFrame(processstateList),pandas.DataFrame(sexcdList),pandas.DataFrame(neuterynList),\n",
    "                      pandas.DataFrame(specialmarkList),pandas.DataFrame(happendtList),pandas.DataFrame(happenplaceList),\n",
    "                      pandas.DataFrame(carenmList),pandas.DataFrame(caretelList),pandas.DataFrame(careaddrList)], axis=1)"
   ]
  },
  {
   "cell_type": "code",
   "execution_count": 8,
   "id": "8ffee139",
   "metadata": {},
   "outputs": [],
   "source": [
    "data.to_csv(\"./all_api.csv\",encoding='utf-8-sig')"
   ]
  },
  {
   "cell_type": "code",
   "execution_count": null,
   "id": "e4f03ba5",
   "metadata": {},
   "outputs": [],
   "source": []
  },
  {
   "cell_type": "code",
   "execution_count": 10,
   "id": "a1409787",
   "metadata": {},
   "outputs": [
    {
     "name": "stdout",
     "output_type": "stream",
     "text": [
      "================================= 미진행 =================================\n",
      "테이블 생성 후 진행\n"
     ]
    }
   ],
   "source": [
    "print(\"================================= 미진행 =================================\")\n",
    "print(\"테이블 생성 후 진행\")"
   ]
  },
  {
   "cell_type": "code",
   "execution_count": null,
   "id": "bf273c49",
   "metadata": {},
   "outputs": [],
   "source": [
    "# 만든 파일의 정보를 DB에 넣어주기\n",
    "# DB정보\n",
    "import pymysql\n",
    "import datetime"
   ]
  },
  {
   "cell_type": "code",
   "execution_count": null,
   "id": "f70ffd0d",
   "metadata": {},
   "outputs": [],
   "source": [
    "MYSQL_USER_DATA_SAVED_FILE = \"res/mysql/userinfo\""
   ]
  },
  {
   "cell_type": "code",
   "execution_count": null,
   "id": "089edaad",
   "metadata": {},
   "outputs": [],
   "source": [
    "import pickle\n",
    "\n",
    "mysql_user_info = dict({\n",
    "    'user_id': '',# db 계정\n",
    "    'password': '' # db 비밀번호\n",
    "})\n",
    "\n",
    "f = open(MYSQL_USER_DATA_SAVED_FILE, 'wb')\n",
    "pickle.dump(mysql_user_info, f)\n",
    "f.close()\n",
    "\n",
    "del mysql_user_info"
   ]
  },
  {
   "cell_type": "code",
   "execution_count": null,
   "id": "e20bbc2c",
   "metadata": {},
   "outputs": [],
   "source": [
    "import pickle\n",
    "\n",
    "f = open(MYSQL_USER_DATA_SAVED_FILE, 'rb')\n",
    "mysql_user_info = pickle.load(f)\n",
    "f.close()"
   ]
  },
  {
   "cell_type": "code",
   "execution_count": null,
   "id": "e5ac9ea3",
   "metadata": {},
   "outputs": [],
   "source": [
    "import csv"
   ]
  },
  {
   "cell_type": "code",
   "execution_count": null,
   "id": "d740c8e6",
   "metadata": {},
   "outputs": [],
   "source": [
    "db = pymysql.connect(\n",
    "    # localhost와 같은 아이피 주소임\n",
    "    host = '127.0.0.1',\n",
    "    # MySQL의 포트번호\n",
    "    port = 3306,\n",
    "    # 아이디\n",
    "    user = mysql_user_info['user_id'],\n",
    "    # 비밀번호\n",
    "    passwd = mysql_user_info['password'],\n",
    "    # 사용하려는 스키마\n",
    "    db = 'petto_db'\n",
    "    # 캐릭터 셋 설정\n",
    "    charset = 'utf8'\n",
    ")\n",
    "\n",
    "cursor = db.cursor()\n",
    "\n",
    "f = open('apitest.csv', 'r')\n",
    "csv_reader = csv.reader(f)\n",
    "\n",
    "print(csv_reader)"
   ]
  },
  {
   "cell_type": "code",
   "execution_count": null,
   "id": "473d01af",
   "metadata": {},
   "outputs": [],
   "source": [
    "for row in csv_reader:\n",
    "    # 엔티티명 정해서 배치해주기\n",
    "    id = (row[0])\n",
    "    pw = (row[1])\n",
    "    \n",
    "    print(id)\n",
    "    print(pw)\n",
    "    \n",
    "    sql = \"\"\"\n",
    "        insert into vuemember (id, pw) values(%s, %s)\n",
    "    \"\"\"\n",
    "    \n",
    "    cursor.execute(sql, (id, pw))\n",
    "    \n",
    "db.commit()\n",
    "\n",
    "f.close()\n",
    "db.close()"
   ]
  }
 ],
 "metadata": {
  "kernelspec": {
   "display_name": "Python 3",
   "language": "python",
   "name": "python3"
  },
  "language_info": {
   "codemirror_mode": {
    "name": "ipython",
    "version": 3
   },
   "file_extension": ".py",
   "mimetype": "text/x-python",
   "name": "python",
   "nbconvert_exporter": "python",
   "pygments_lexer": "ipython3",
   "version": "3.8.8"
  }
 },
 "nbformat": 4,
 "nbformat_minor": 5
}
