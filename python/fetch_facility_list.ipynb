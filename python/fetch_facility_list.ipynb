{
 "cells": [
  {
   "cell_type": "code",
   "execution_count": 7,
   "id": "28e8932a",
   "metadata": {},
   "outputs": [
    {
     "name": "stdout",
     "output_type": "stream",
     "text": []
    }
   ],
   "source": [
    "import urllib.request\n",
    "import xml.dom.minidom\n",
    "\n",
    "pretty_xml_as_string = ''\n",
    "\n",
    "def fetch_xml():\n",
    "    \n",
    "    my_key = 'GpwTGNEp1IjyCv0Ob%2BgB4Vqhszfqr9FMFe9XXpxPTfv66tipBTYR1e1cjXAaG3su8d%2F8h5zlPkqoJY3WVra7vg%3D%3D'\n",
    "\n",
    "    # request url정의\n",
    "    url = \"http://openapi.animal.go.kr/openapi/service/rest/animalShelterSrvc/shelterInfo?care_nm=&ServiceKey=\" + my_key + \"&pageNo=1&numOfRows=305\"\n",
    "    request = urllib.request.Request(url)\n",
    "\n",
    "    # request보내기\n",
    "    response = urllib.request.urlopen(request)\n",
    "\n",
    "    # 결과 코드 정의\n",
    "    rescode = response.getcode()\n",
    "\n",
    "    if(rescode==200):\n",
    "        response_body = response.read()\n",
    "        dom = xml.dom.minidom.parseString(response_body.decode('utf-8'))\n",
    "        \n",
    "        global pretty_xml_as_string\n",
    "        \n",
    "        pretty_xml_as_string = dom.toprettyxml()\n",
    "        print(pretty_xml_as_string)\n",
    "    else:\n",
    "        print(\"Error Code:\" + rescode)\n",
    "\n",
    "fetch_xml()"
   ]
  },
  {
   "cell_type": "code",
   "execution_count": 8,
   "id": "8c8f76e2",
   "metadata": {},
   "outputs": [],
   "source": [
    "from bs4 import BeautifulSoup\n",
    "import pandas\n",
    "\n",
    "def make_item_list():\n",
    "    soup = BeautifulSoup(pretty_xml_as_string)\n",
    "    \n",
    "    global ItemList\n",
    "    ItemList = soup.findAll('item')\n",
    "    \n",
    "make_item_list()"
   ]
  },
  {
   "cell_type": "code",
   "execution_count": 9,
   "id": "4791e2ed",
   "metadata": {},
   "outputs": [],
   "source": [
    "def list_append():\n",
    "    \n",
    "    global careAddrList\n",
    "    global careNmList\n",
    "    global careTelList\n",
    "    global orgNmList\n",
    "    global saveTrgtAnimalList\n",
    "\n",
    "    careAddrList = [] #주소\n",
    "    careNmList = [] #기관명\n",
    "    careTelList = [] #번호\n",
    "    orgNmList = [] #지역명\n",
    "    saveTrgtAnimalList = [] #취급 동물\n",
    "\n",
    "    for item in ItemList:\n",
    "        try :\n",
    "            careAddr = item.find('careaddr').text\n",
    "            careNm = item.find('carenm').text\n",
    "            careTel = item.find('caretel').text\n",
    "            orgNm = item.find('orgnm').text\n",
    "            saveTrgtAnimal = item.find('savetrgtanimal').text\n",
    "\n",
    "            careAddrList.append(careAddr)\n",
    "            careNmList.append(careNm)\n",
    "            careTelList.append(careTel)\n",
    "            orgNmList.append(orgNm)\n",
    "            saveTrgtAnimalList.append(saveTrgtAnimal)\n",
    "\n",
    "        except AttributeError as e:\n",
    "            careAddrList.append(careAddr)\n",
    "            careNmList.append(careNm)\n",
    "            careTelList.append(careTel)\n",
    "            orgNmList.append(orgNm)\n",
    "            saveTrgtAnimalList.append('기타')\n",
    "\n",
    "list_append()"
   ]
  },
  {
   "cell_type": "code",
   "execution_count": 10,
   "id": "9bc5c818",
   "metadata": {},
   "outputs": [],
   "source": [
    "def make_facility_data_api():\n",
    "\n",
    "    facility_data_api = pandas.concat([ pandas.DataFrame(careAddrList), pandas.DataFrame(careNmList), pandas.DataFrame(careTelList), \n",
    "                                   pandas.DataFrame(orgNmList), pandas.DataFrame(saveTrgtAnimalList) ], axis=1)\n",
    "    \n",
    "    facility_data_api.to_csv(\"./facility_data_api.csv\", encoding='utf-8-sig')\n",
    "    \n",
    "make_facility_data_api()"
   ]
  },
  {
   "cell_type": "code",
   "execution_count": null,
   "id": "8296aaca",
   "metadata": {},
   "outputs": [],
   "source": [
    "\n",
    "\n"
   ]
  },
  {
   "cell_type": "code",
   "execution_count": 11,
   "id": "e97394d1",
   "metadata": {},
   "outputs": [],
   "source": [
    "import pymysql\n",
    "import datetime"
   ]
  },
  {
   "cell_type": "code",
   "execution_count": 12,
   "id": "db47e03b",
   "metadata": {},
   "outputs": [
    {
     "name": "stdout",
     "output_type": "stream",
     "text": [
      "<_csv.reader object at 0x000001564699BA00>\n"
     ]
    }
   ],
   "source": [
    "import pickle\n",
    "import csv\n",
    "\n",
    "def setup_db():\n",
    "\n",
    "    MYSQL_USER_DATA_SAVED_FILE = \"res/mysql/userinfo\"\n",
    "    \n",
    "    global f\n",
    "    f = open(MYSQL_USER_DATA_SAVED_FILE, 'rb')\n",
    "    mysql_user_info = pickle.load(f)\n",
    "    f.close()\n",
    "    \n",
    "    global db\n",
    "    db = pymysql.connect(\n",
    "        # localhost와 같은 아이피 주소임\n",
    "        host = '127.0.0.1',\n",
    "        # MySQL의 포트번호\n",
    "        port = 3306,\n",
    "        # 아이디\n",
    "        user = mysql_user_info['user_id'],\n",
    "        # 비밀번호\n",
    "        passwd = mysql_user_info['password'],\n",
    "        # 사용하려는 스키마\n",
    "        db = 'petto_db',\n",
    "        # 캐릭터 셋 설정\n",
    "        charset = 'utf8'\n",
    "    )\n",
    "    \n",
    "    global cursor\n",
    "    cursor = db.cursor()\n",
    "    \n",
    "    f = open('facility_data_api.csv', 'r', encoding='UTF8')\n",
    "    \n",
    "    global csv_reader_facility\n",
    "    csv_reader_facility = csv.reader(f)\n",
    "\n",
    "    print(csv_reader_facility)\n",
    "    \n",
    "setup_db()"
   ]
  },
  {
   "cell_type": "code",
   "execution_count": 13,
   "id": "88618003",
   "metadata": {},
   "outputs": [
    {
     "name": "stdout",
     "output_type": "stream",
     "text": [
      "db 저장 완료\n"
     ]
    }
   ],
   "source": [
    "def save_in_db():\n",
    "    ######################## 매일 자정마다 리스트 초기화\n",
    "    \n",
    "    initialization_sql = \"\"\"truncate table petto_facility\"\"\" \n",
    "    \n",
    "    cursor.execute(initialization_sql)\n",
    "    \n",
    "    db.commit()\n",
    "    \n",
    "    ########################\n",
    "    \n",
    "    cnt = 0\n",
    "\n",
    "    for row in csv_reader_facility:\n",
    "        if cnt == 0:\n",
    "            cnt += 1\n",
    "            continue\n",
    "\n",
    "        facility_addr = (row[1])\n",
    "        facility_name = (row[2])\n",
    "        facility_tel = (row[3])\n",
    "        org_name = (row[4])\n",
    "        save_trgt_animal = (row[5])\n",
    "\n",
    "\n",
    "        sql = \"\"\"\n",
    "                insert into petto_facility (facility_addr, facility_name, facility_tel, org_name, save_trgt_animal) values \n",
    "                (%s, %s, %s, %s, %s)\n",
    "            \"\"\"\n",
    "\n",
    "        cursor.execute(sql, (facility_addr, facility_name, facility_tel, org_name, save_trgt_animal))\n",
    "\n",
    "    db.commit()\n",
    "\n",
    "    f.close()\n",
    "    db.close()\n",
    "    print('db 저장 완료')\n",
    "    \n",
    "save_in_db()"
   ]
  },
  {
   "cell_type": "code",
   "execution_count": null,
   "id": "9cb37fcc",
   "metadata": {},
   "outputs": [],
   "source": []
  },
  {
   "cell_type": "code",
   "execution_count": 6,
   "id": "030d16cf",
   "metadata": {},
   "outputs": [
    {
     "name": "stdout",
     "output_type": "stream",
     "text": [
      "Requirement already satisfied: schedule in c:\\programdata\\anaconda3\\lib\\site-packages (1.1.0)\n"
     ]
    }
   ],
   "source": [
    "!pip install schedule"
   ]
  },
  {
   "cell_type": "code",
   "execution_count": 1,
   "id": "424a962f",
   "metadata": {},
   "outputs": [],
   "source": [
    "import schedule\n",
    "import time\n",
    "import datetime"
   ]
  },
  {
   "cell_type": "code",
   "execution_count": 2,
   "id": "d6359432",
   "metadata": {},
   "outputs": [
    {
     "ename": "KeyboardInterrupt",
     "evalue": "",
     "output_type": "error",
     "traceback": [
      "\u001b[1;31m---------------------------------------------------------------------------\u001b[0m",
      "\u001b[1;31mKeyboardInterrupt\u001b[0m                         Traceback (most recent call last)",
      "\u001b[1;32m<ipython-input-2-ef48fd867b2a>\u001b[0m in \u001b[0;36m<module>\u001b[1;34m\u001b[0m\n\u001b[0;32m     13\u001b[0m \u001b[1;32mwhile\u001b[0m \u001b[1;32mTrue\u001b[0m\u001b[1;33m:\u001b[0m\u001b[1;33m\u001b[0m\u001b[1;33m\u001b[0m\u001b[0m\n\u001b[0;32m     14\u001b[0m     \u001b[0mschedule\u001b[0m\u001b[1;33m.\u001b[0m\u001b[0mrun_pending\u001b[0m\u001b[1;33m(\u001b[0m\u001b[1;33m)\u001b[0m\u001b[1;33m\u001b[0m\u001b[1;33m\u001b[0m\u001b[0m\n\u001b[1;32m---> 15\u001b[1;33m     \u001b[0mtime\u001b[0m\u001b[1;33m.\u001b[0m\u001b[0msleep\u001b[0m\u001b[1;33m(\u001b[0m\u001b[1;36m1\u001b[0m\u001b[1;33m)\u001b[0m\u001b[1;33m\u001b[0m\u001b[1;33m\u001b[0m\u001b[0m\n\u001b[0m",
      "\u001b[1;31mKeyboardInterrupt\u001b[0m: "
     ]
    }
   ],
   "source": [
    "def fetch_facility_list():\n",
    "    \n",
    "    fetch_xml()\n",
    "    make_item_list()\n",
    "    list_append()\n",
    "    make_facility_data_api()\n",
    "    setup_db()\n",
    "    save_in_db()\n",
    "    \n",
    "schedule.every().day.at(\"00:00\").do(fetch_facility_list)\n",
    " \n",
    "#실제 실행하게 하는 코드\n",
    "while True:\n",
    "    schedule.run_pending()\n",
    "    time.sleep(1)\n"
   ]
  },
  {
   "cell_type": "code",
   "execution_count": null,
   "id": "eff5ef16",
   "metadata": {},
   "outputs": [],
   "source": []
  }
 ],
 "metadata": {
  "kernelspec": {
   "display_name": "Python 3",
   "language": "python",
   "name": "python3"
  },
  "language_info": {
   "codemirror_mode": {
    "name": "ipython",
    "version": 3
   },
   "file_extension": ".py",
   "mimetype": "text/x-python",
   "name": "python",
   "nbconvert_exporter": "python",
   "pygments_lexer": "ipython3",
   "version": "3.8.8"
  }
 },
 "nbformat": 4,
 "nbformat_minor": 5
}
