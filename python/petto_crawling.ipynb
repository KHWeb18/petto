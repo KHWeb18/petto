{
 "cells": [
  {
   "cell_type": "code",
   "execution_count": 1,
   "id": "2163aa4f",
   "metadata": {},
   "outputs": [],
   "source": [
    "from flask import Flask, url_for, request, jsonify, redirect, Response\n",
    "from flask_cors import CORS, cross_origin\n",
    "\n",
    "import json\n",
    "import requests\n",
    "\n",
    "import selenium\n",
    "from selenium import webdriver"
   ]
  },
  {
   "cell_type": "code",
   "execution_count": 2,
   "id": "788c9f34",
   "metadata": {},
   "outputs": [
    {
     "name": "stdout",
     "output_type": "stream",
     "text": [
      " * Serving Flask app \"__main__\" (lazy loading)\n",
      " * Environment: production\n",
      "   WARNING: This is a development server. Do not use it in a production deployment.\n",
      "   Use a production WSGI server instead.\n",
      " * Debug mode: off\n"
     ]
    },
    {
     "name": "stderr",
     "output_type": "stream",
     "text": [
      " * Running on http://127.0.0.1:5000/ (Press CTRL+C to quit)\n",

      "127.0.0.1 - - [26/Nov/2021 19:49:00] \"\u001b[33mPOST /pythonCrawlNews HTTP/1.1\u001b[0m\" 404 -\n",
      "127.0.0.1 - - [26/Nov/2021 19:49:07] \"\u001b[37mPOST /pawinhandCrawling HTTP/1.1\u001b[0m\" 200 -\n"

      "127.0.0.1 - - [01/Dec/2021 15:45:16] \"\u001b[33mPOST /pythonCrawlNews HTTP/1.1\u001b[0m\" 404 -\n",
      "127.0.0.1 - - [01/Dec/2021 15:45:22] \"\u001b[37mPOST /pawinhandCrawling HTTP/1.1\u001b[0m\" 200 -\n"

     ]
    },
    {
     "name": "stdout",
     "output_type": "stream",
     "text": [
      "오늘 구조된 동물\n",
      "237\n",
      "226\n",

      "마리\n",
      "입양률\n",
      "31\n",
      "%\n",
      "안락사율\n",
      "15\n",
      "%\n"
     ]
    },
    {
     "name": "stderr",
     "output_type": "stream",
     "text": [
      "127.0.0.1 - - [26/Nov/2021 19:50:19] \"\u001b[33mPOST /pythonCrawlNews HTTP/1.1\u001b[0m\" 404 -\n",
      "127.0.0.1 - - [26/Nov/2021 19:50:22] \"\u001b[37mPOST /pawinhandCrawling HTTP/1.1\u001b[0m\" 200 -\n"
     ]
    },
    {
     "name": "stdout",
     "output_type": "stream",
     "text": [
      "오늘 구조된 동물\n",
      "237\n",
      "마리\n",
      "입양률\n",
      "31\n",
      "%\n",
      "안락사율\n",
      "15\n",
      "%\n"
     ]
    },
    {
     "name": "stderr",
     "output_type": "stream",
     "text": [
      "127.0.0.1 - - [26/Nov/2021 19:51:37] \"\u001b[33mPOST /pythonCrawlNews HTTP/1.1\u001b[0m\" 404 -\n",
      "127.0.0.1 - - [26/Nov/2021 19:51:43] \"\u001b[37mPOST /pawinhandCrawling HTTP/1.1\u001b[0m\" 200 -\n"
     ]
    },
    {
     "name": "stdout",
     "output_type": "stream",
     "text": [
      "오늘 구조된 동물\n",
      "237\n",
      "마리\n",
      "입양률\n",
      "31\n",
      "%\n",
      "안락사율\n",
      "15\n",
      "%\n"
     ]
    },
    {
     "name": "stderr",
     "output_type": "stream",
     "text": [
      "127.0.0.1 - - [26/Nov/2021 19:54:46] \"\u001b[33mPOST /pythonCrawlNews HTTP/1.1\u001b[0m\" 404 -\n",
      "127.0.0.1 - - [26/Nov/2021 19:54:49] \"\u001b[37mPOST /pawinhandCrawling HTTP/1.1\u001b[0m\" 200 -\n"
     ]
    },
    {
     "name": "stdout",
     "output_type": "stream",
     "text": [
      "오늘 구조된 동물\n",
      "237\n",
      "마리\n",
      "입양률\n",
      "31\n",
      "%\n",
      "안락사율\n",
      "15\n",
      "%\n"
     ]
    },
    {
     "name": "stderr",
     "output_type": "stream",
     "text": [
      "127.0.0.1 - - [26/Nov/2021 20:04:15] \"\u001b[33mPOST /pythonCrawlNews HTTP/1.1\u001b[0m\" 404 -\n",
      "127.0.0.1 - - [26/Nov/2021 20:04:20] \"\u001b[37mPOST /pawinhandCrawling HTTP/1.1\u001b[0m\" 200 -\n"
     ]
    },
    {
     "name": "stdout",
     "output_type": "stream",
     "text": [
      "오늘 구조된 동물\n",
      "237\n",
      "마리\n",
      "입양률\n",
      "31\n",
      "%\n",
      "안락사율\n",
      "15\n",
      "%\n"
     ]
    },
    {
     "name": "stderr",
     "output_type": "stream",
     "text": [
      "127.0.0.1 - - [26/Nov/2021 20:05:15] \"\u001b[33mPOST /pythonCrawlNews HTTP/1.1\u001b[0m\" 404 -\n",
      "127.0.0.1 - - [26/Nov/2021 20:05:18] \"\u001b[33mPOST /pythonCrawlNews HTTP/1.1\u001b[0m\" 404 -\n",
      "127.0.0.1 - - [26/Nov/2021 20:05:21] \"\u001b[37mPOST /pawinhandCrawling HTTP/1.1\u001b[0m\" 200 -\n",
      "127.0.0.1 - - [26/Nov/2021 20:05:21] \"\u001b[37mPOST /pawinhandCrawling HTTP/1.1\u001b[0m\" 200 -\n"
     ]
    },
    {
     "name": "stdout",
     "output_type": "stream",
     "text": [
      "오늘 구조된 동물\n",
      "237\n",
      "마리\n",
      "입양률\n",
      "31\n",
      "%\n",
      "안락사율\n",
      "15\n",
      "%\n",
      "오늘 구조된 동물\n",
      "237\n",
      "마리\n",
      "입양률\n",
      "31\n",
      "%\n",
      "안락사율\n",
      "15\n",
      "%\n"
     ]
    },
    {
     "name": "stderr",
     "output_type": "stream",
     "text": [
      "127.0.0.1 - - [26/Nov/2021 20:06:49] \"\u001b[33mPOST /pythonCrawlNews HTTP/1.1\u001b[0m\" 404 -\n",
      "127.0.0.1 - - [26/Nov/2021 20:06:52] \"\u001b[37mPOST /pawinhandCrawling HTTP/1.1\u001b[0m\" 200 -\n"
     ]
    },
    {
     "name": "stdout",
     "output_type": "stream",
     "text": [
      "오늘 구조된 동물\n",
      "237\n",
      "마리\n",
      "입양률\n",
      "31\n",
      "%\n",
      "안락사율\n",
      "15\n",
      "%\n"
     ]
    },
    {
     "name": "stderr",
     "output_type": "stream",
     "text": [
      "127.0.0.1 - - [26/Nov/2021 20:06:54] \"\u001b[33mPOST /pythonCrawlNews HTTP/1.1\u001b[0m\" 404 -\n",
      "127.0.0.1 - - [26/Nov/2021 20:06:58] \"\u001b[37mPOST /pawinhandCrawling HTTP/1.1\u001b[0m\" 200 -\n"
     ]
    },
    {
     "name": "stdout",
     "output_type": "stream",
     "text": [
      "오늘 구조된 동물\n",
      "237\n",
      "마리\n",
      "입양률\n",
      "31\n",
      "%\n",
      "안락사율\n",
      "15\n",
      "%\n"
     ]
    },
    {
     "name": "stderr",
     "output_type": "stream",
     "text": [
      "127.0.0.1 - - [26/Nov/2021 20:07:02] \"\u001b[33mPOST /pythonCrawlNews HTTP/1.1\u001b[0m\" 404 -\n",
      "127.0.0.1 - - [26/Nov/2021 20:07:11] \"\u001b[37mPOST /pawinhandCrawling HTTP/1.1\u001b[0m\" 200 -\n"
     ]
    },
    {
     "name": "stdout",
     "output_type": "stream",
     "text": [
      "오늘 구조된 동물\n",
      "237\n",
      "마리\n",
      "입양률\n",
      "31\n",
      "%\n",
      "안락사율\n",
      "15\n",
      "%\n"
     ]
    },
    {
     "name": "stderr",
     "output_type": "stream",
     "text": [
      "127.0.0.1 - - [26/Nov/2021 20:07:48] \"\u001b[33mPOST /pythonCrawlNews HTTP/1.1\u001b[0m\" 404 -\n",
      "127.0.0.1 - - [26/Nov/2021 20:07:52] \"\u001b[37mPOST /pawinhandCrawling HTTP/1.1\u001b[0m\" 200 -\n"
     ]
    },
    {
     "name": "stdout",
     "output_type": "stream",
     "text": [
      "오늘 구조된 동물\n",
      "237\n",
      "마리\n",
      "입양률\n",
      "31\n",
      "%\n",
      "안락사율\n",
      "15\n",
      "%\n"
     ]
    },
    {
     "name": "stderr",
     "output_type": "stream",
     "text": [
      "127.0.0.1 - - [26/Nov/2021 20:07:55] \"\u001b[33mPOST /pythonCrawlNews HTTP/1.1\u001b[0m\" 404 -\n",
      "127.0.0.1 - - [26/Nov/2021 20:07:58] \"\u001b[37mPOST /pawinhandCrawling HTTP/1.1\u001b[0m\" 200 -\n"
     ]
    },
    {
     "name": "stdout",
     "output_type": "stream",
     "text": [
      "오늘 구조된 동물\n",
      "237\n",
      "마리\n",
      "입양률\n",
      "31\n",
      "%\n",
      "안락사율\n",
      "15\n",
      "%\n"
     ]
    },
    {
     "name": "stderr",
     "output_type": "stream",
     "text": [
      "127.0.0.1 - - [26/Nov/2021 20:08:35] \"\u001b[33mPOST /pythonCrawlNews HTTP/1.1\u001b[0m\" 404 -\n",
      "127.0.0.1 - - [26/Nov/2021 20:08:42] \"\u001b[33mPOST /pythonCrawlNews HTTP/1.1\u001b[0m\" 404 -\n",
      "127.0.0.1 - - [26/Nov/2021 20:08:42] \"\u001b[33mPOST /pythonCrawlNews HTTP/1.1\u001b[0m\" 404 -\n",
      "127.0.0.1 - - [26/Nov/2021 20:08:42] \"\u001b[37mPOST /pawinhandCrawling HTTP/1.1\u001b[0m\" 200 -\n"
     ]
    },
    {
     "name": "stdout",
     "output_type": "stream",
     "text": [
      "오늘 구조된 동물\n",
      "237\n",
      "마리\n",
      "입양률\n",
      "31\n",
      "%\n",
      "안락사율\n",
      "15\n",
      "%\n"
     ]
    },
    {
     "name": "stderr",
     "output_type": "stream",
     "text": [
      "127.0.0.1 - - [26/Nov/2021 20:08:45] \"\u001b[37mPOST /pawinhandCrawling HTTP/1.1\u001b[0m\" 200 -\n"
     ]
    },
    {
     "name": "stdout",
     "output_type": "stream",
     "text": [
      "오늘 구조된 동물\n",
      "237\n",
      "마리\n",
      "입양률\n",
      "31\n",
      "%\n",
      "안락사율\n",
      "15\n",
      "%\n"
     ]
    },
    {
     "name": "stderr",
     "output_type": "stream",
     "text": [
      "127.0.0.1 - - [26/Nov/2021 20:08:46] \"\u001b[37mPOST /pawinhandCrawling HTTP/1.1\u001b[0m\" 200 -\n"
     ]
    },
    {
     "name": "stdout",
     "output_type": "stream",
     "text": [
      "오늘 구조된 동물\n",
      "237\n",
      "마리\n",
      "입양률\n",
      "31\n",
      "%\n",
      "안락사율\n",
      "15\n",
      "%\n"
     ]
    },
    {
     "name": "stderr",
     "output_type": "stream",
     "text": [
      "127.0.0.1 - - [26/Nov/2021 20:11:06] \"\u001b[33mPOST /pythonCrawlNews HTTP/1.1\u001b[0m\" 404 -\n"
     ]
    },
    {
     "name": "stdout",
     "output_type": "stream",
     "text": [
      "오늘 구조된 동물\n",
      "237\n",
      "마리\n",
      "입양률\n",
      "31\n",
      "%\n",
      "안락사율\n",
      "15\n",
      "%\n"
     ]
    },
    {
     "name": "stderr",
     "output_type": "stream",
     "text": [
      "127.0.0.1 - - [26/Nov/2021 20:11:13] \"\u001b[37mPOST /pawinhandCrawling HTTP/1.1\u001b[0m\" 200 -\n",
      "127.0.0.1 - - [26/Nov/2021 20:11:17] \"\u001b[33mPOST /pythonCrawlNews HTTP/1.1\u001b[0m\" 404 -\n",
      "127.0.0.1 - - [26/Nov/2021 20:11:17] \"\u001b[33mPOST /pythonCrawlNews HTTP/1.1\u001b[0m\" 404 -\n",
      "127.0.0.1 - - [26/Nov/2021 20:11:21] \"\u001b[37mPOST /pawinhandCrawling HTTP/1.1\u001b[0m\" 200 -\n"
     ]
    },
    {
     "name": "stdout",
     "output_type": "stream",
     "text": [
      "오늘 구조된 동물\n",
      "237\n",
      "마리\n",
      "입양률\n",
      "31\n",
      "%\n",
      "안락사율\n",
      "15\n",
      "%\n"
     ]
    },
    {
     "name": "stderr",
     "output_type": "stream",
     "text": [
      "127.0.0.1 - - [26/Nov/2021 20:39:35] \"\u001b[33mPOST /pythonCrawlNews HTTP/1.1\u001b[0m\" 404 -\n"
     ]
    },
    {
     "name": "stdout",
     "output_type": "stream",
     "text": [
      "오늘 구조된 동물\n",
      "237\n",
      "마리\n",
      "입양률\n",
      "31\n",
      "%\n",
      "안락사율\n",
      "15\n",
      "%\n"
     ]
    },
    {
     "name": "stderr",
     "output_type": "stream",
     "text": [
      "127.0.0.1 - - [26/Nov/2021 20:39:42] \"\u001b[33mPOST /pythonCrawlNews HTTP/1.1\u001b[0m\" 404 -\n",
      "127.0.0.1 - - [26/Nov/2021 20:39:42] \"\u001b[37mPOST /pawinhandCrawling HTTP/1.1\u001b[0m\" 200 -\n",
      "127.0.0.1 - - [26/Nov/2021 20:39:42] \"\u001b[33mPOST /pythonCrawlNews HTTP/1.1\u001b[0m\" 404 -\n",
      "127.0.0.1 - - [26/Nov/2021 20:39:45] \"\u001b[37mPOST /pawinhandCrawling HTTP/1.1\u001b[0m\" 200 -\n"
     ]
    },
    {
     "name": "stdout",
     "output_type": "stream",
     "text": [
      "오늘 구조된 동물\n",
      "237\n",
      "마리\n",
      "입양률\n",
      "31\n",
      "%\n",
      "안락사율\n",
      "15\n",
      "%\n"
     ]
    },
    {
     "name": "stderr",
     "output_type": "stream",
     "text": [
      "127.0.0.1 - - [26/Nov/2021 20:47:54] \"\u001b[37mPOST /pawinhandCrawling HTTP/1.1\u001b[0m\" 200 -\n"
     ]
    },
    {
     "name": "stdout",
     "output_type": "stream",
     "text": [
      "오늘 구조된 동물\n",
      "237\n",
      "마리\n",
      "입양률\n",
      "31\n",
      "%\n",
      "안락사율\n",
      "15\n",
      "%\n"
     ]
    },
    {
     "name": "stderr",
     "output_type": "stream",
     "text": [
      "127.0.0.1 - - [26/Nov/2021 20:49:09] \"\u001b[37mPOST /pawinhandCrawling HTTP/1.1\u001b[0m\" 200 -\n"
     ]
    },
    {
     "name": "stdout",
     "output_type": "stream",
     "text": [
      "오늘 구조된 동물\n",
      "237\n",
      "마리\n",
      "입양률\n",
      "31\n",
      "%\n",
      "안락사율\n",
      "15\n",
      "%\n"
     ]
    },
    {
     "name": "stderr",
     "output_type": "stream",
     "text": [
      "127.0.0.1 - - [26/Nov/2021 20:51:50] \"\u001b[33mPOST /pythonCrawlNews HTTP/1.1\u001b[0m\" 404 -\n",
      "127.0.0.1 - - [26/Nov/2021 20:51:54] \"\u001b[37mPOST /pawinhandCrawling HTTP/1.1\u001b[0m\" 200 -\n"
     ]
    },
    {
     "name": "stdout",
     "output_type": "stream",
     "text": [
      "오늘 구조된 동물\n",
      "237\n",
      "마리\n",
      "입양률\n",
      "31\n",
      "%\n",
      "안락사율\n",
      "15\n",
      "%\n"
     ]
    },
    {
     "name": "stderr",
     "output_type": "stream",
     "text": [
      "127.0.0.1 - - [26/Nov/2021 20:51:56] \"\u001b[37mPOST /pawinhandCrawling HTTP/1.1\u001b[0m\" 200 -\n"
     ]
    },
    {
     "name": "stdout",
     "output_type": "stream",
     "text": [
      "오늘 구조된 동물\n",
      "237\n",
      "마리\n",
      "입양률\n",
      "31\n",
      "%\n",
      "안락사율\n",
      "15\n",
      "%\n"
     ]
    },
    {
     "name": "stderr",
     "output_type": "stream",
     "text": [
      "127.0.0.1 - - [26/Nov/2021 20:54:15] \"\u001b[33mPOST /pythonCrawlNews HTTP/1.1\u001b[0m\" 404 -\n"
     ]
    },
    {
     "name": "stdout",
     "output_type": "stream",
     "text": [
      "오늘 구조된 동물\n",
      "237\n",
      "마리\n",
      "입양률\n",
      "31\n",
      "%\n",
      "안락사율\n",
      "15\n",
      "%\n"
     ]
    },
    {
     "name": "stderr",
     "output_type": "stream",
     "text": [
      "127.0.0.1 - - [26/Nov/2021 20:54:18] \"\u001b[37mPOST /pawinhandCrawling HTTP/1.1\u001b[0m\" 200 -\n",
      "127.0.0.1 - - [26/Nov/2021 21:03:18] \"\u001b[33mPOST /pythonCrawlNews HTTP/1.1\u001b[0m\" 404 -\n",
      "127.0.0.1 - - [26/Nov/2021 21:03:24] \"\u001b[37mPOST /pawinhandCrawling HTTP/1.1\u001b[0m\" 200 -\n"
     ]
    },
    {
     "name": "stdout",
     "output_type": "stream",
     "text": [
      "오늘 구조된 동물\n",
      "237\n",
      "마리\n",
      "입양률\n",
      "31\n",
      "%\n",
      "안락사율\n",
      "15\n",
      "%\n"
     ]
    },
    {
     "name": "stderr",
     "output_type": "stream",
     "text": [
      "127.0.0.1 - - [26/Nov/2021 21:03:27] \"\u001b[33mPOST /pythonCrawlNews HTTP/1.1\u001b[0m\" 404 -\n",
      "127.0.0.1 - - [26/Nov/2021 21:03:30] \"\u001b[33mPOST /pythonCrawlNews HTTP/1.1\u001b[0m\" 404 -\n",
      "127.0.0.1 - - [26/Nov/2021 21:03:34] \"\u001b[37mPOST /pawinhandCrawling HTTP/1.1\u001b[0m\" 200 -\n"
     ]
    },
    {
     "name": "stdout",
     "output_type": "stream",
     "text": [
      "오늘 구조된 동물\n",
      "237\n",
      "마리\n",
      "입양률\n",
      "31\n",
      "%\n",
      "안락사율\n",
      "15\n",
      "%\n"
     ]
    },
    {
     "name": "stderr",
     "output_type": "stream",
     "text": [
      "127.0.0.1 - - [26/Nov/2021 21:03:37] \"\u001b[37mPOST /pawinhandCrawling HTTP/1.1\u001b[0m\" 200 -\n"
     ]
    },
    {
     "name": "stdout",
     "output_type": "stream",
     "text": [
      "오늘 구조된 동물\n",
      "237\n",
      "마리\n",
      "입양률\n",
      "31\n",
      "%\n",
      "안락사율\n",
      "15\n",
      "%\n"
     ]
    },
    {
     "name": "stderr",
     "output_type": "stream",
     "text": [
      "127.0.0.1 - - [26/Nov/2021 21:04:36] \"\u001b[33mPOST /pythonCrawlNews HTTP/1.1\u001b[0m\" 404 -\n",
      "127.0.0.1 - - [26/Nov/2021 21:04:39] \"\u001b[37mPOST /pawinhandCrawling HTTP/1.1\u001b[0m\" 200 -\n"
     ]
    },
    {
     "name": "stdout",
     "output_type": "stream",
     "text": [
      "오늘 구조된 동물\n",
      "237\n",
      "마리\n",
      "입양률\n",
      "31\n",
      "%\n",
      "안락사율\n",
      "15\n",
      "%\n"
     ]
    },
    {
     "name": "stderr",
     "output_type": "stream",
     "text": [
      "127.0.0.1 - - [26/Nov/2021 21:07:25] \"\u001b[33mPOST /pythonCrawlNews HTTP/1.1\u001b[0m\" 404 -\n",
      "127.0.0.1 - - [26/Nov/2021 21:07:28] \"\u001b[37mPOST /pawinhandCrawling HTTP/1.1\u001b[0m\" 200 -\n"
     ]
    },
    {
     "name": "stdout",
     "output_type": "stream",
     "text": [
      "오늘 구조된 동물\n",
      "237\n",
      "마리\n",
      "입양률\n",
      "31\n",
      "%\n",
      "안락사율\n",
      "15\n",
      "%\n"
     ]
    },
    {
     "name": "stderr",
     "output_type": "stream",
     "text": [
      "127.0.0.1 - - [26/Nov/2021 21:07:31] \"\u001b[33mPOST /pythonCrawlNews HTTP/1.1\u001b[0m\" 404 -\n",
      "127.0.0.1 - - [26/Nov/2021 21:07:41] \"\u001b[37mPOST /pawinhandCrawling HTTP/1.1\u001b[0m\" 200 -\n"
     ]
    },
    {
     "name": "stdout",
     "output_type": "stream",
     "text": [
      "오늘 구조된 동물\n",
      "237\n",
      "마리\n",
      "입양률\n",
      "31\n",
      "%\n",
      "안락사율\n",
      "15\n",
      "%\n"
     ]
    },
    {
     "name": "stderr",
     "output_type": "stream",
     "text": [
      "127.0.0.1 - - [26/Nov/2021 21:16:49] \"\u001b[33mPOST /pythonCrawlNews HTTP/1.1\u001b[0m\" 404 -\n",
      "127.0.0.1 - - [26/Nov/2021 21:16:55] \"\u001b[37mPOST /pawinhandCrawling HTTP/1.1\u001b[0m\" 200 -\n"
     ]
    },
    {
     "name": "stdout",
     "output_type": "stream",
     "text": [
      "오늘 구조된 동물\n",
      "237\n",
      "마리\n",
      "입양률\n",
      "31\n",
      "%\n",
      "안락사율\n",
      "15\n",
      "%\n"
     ]
    },
    {
     "name": "stderr",
     "output_type": "stream",
     "text": [
      "127.0.0.1 - - [26/Nov/2021 21:20:14] \"\u001b[33mPOST /pythonCrawlNews HTTP/1.1\u001b[0m\" 404 -\n",
      "127.0.0.1 - - [26/Nov/2021 21:20:17] \"\u001b[37mPOST /pawinhandCrawling HTTP/1.1\u001b[0m\" 200 -\n"
     ]
    },
    {
     "name": "stdout",
     "output_type": "stream",
     "text": [
      "오늘 구조된 동물\n",
      "237\n",
      "마리\n",
      "입양률\n",
      "31\n",
      "%\n",
      "안락사율\n",
      "15\n",
      "%\n"
     ]
    },
    {
     "name": "stderr",
     "output_type": "stream",
     "text": [
      "127.0.0.1 - - [26/Nov/2021 21:20:21] \"\u001b[33mPOST /pythonCrawlNews HTTP/1.1\u001b[0m\" 404 -\n",
      "127.0.0.1 - - [26/Nov/2021 21:20:49] \"\u001b[37mPOST /pawinhandCrawling HTTP/1.1\u001b[0m\" 200 -\n"
     ]
    },
    {
     "name": "stdout",
     "output_type": "stream",
     "text": [
      "오늘 구조된 동물\n",
      "237\n",
      "마리\n",
      "입양률\n",
      "31\n",
      "%\n",
      "안락사율\n",
      "15\n",
      "%\n"
     ]
    },
    {
     "name": "stderr",
     "output_type": "stream",
     "text": [
      "127.0.0.1 - - [26/Nov/2021 21:26:06] \"\u001b[33mPOST /pythonCrawlNews HTTP/1.1\u001b[0m\" 404 -\n",
      "127.0.0.1 - - [26/Nov/2021 21:26:09] \"\u001b[37mPOST /pawinhandCrawling HTTP/1.1\u001b[0m\" 200 -\n"
     ]
    },
    {
     "name": "stdout",
     "output_type": "stream",
     "text": [
      "오늘 구조된 동물\n",
      "237\n",
      "마리\n",
      "입양률\n",
      "31\n",
      "%\n",
      "안락사율\n",
      "15\n",
      "%\n"
     ]
    },
    {
     "name": "stderr",
     "output_type": "stream",
     "text": [
      "127.0.0.1 - - [26/Nov/2021 21:26:14] \"\u001b[33mPOST /pythonCrawlNews HTTP/1.1\u001b[0m\" 404 -\n",
      "127.0.0.1 - - [26/Nov/2021 21:26:17] \"\u001b[37mPOST /pawinhandCrawling HTTP/1.1\u001b[0m\" 200 -\n"
     ]
    },
    {
     "name": "stdout",
     "output_type": "stream",
     "text": [
      "오늘 구조된 동물\n",
      "237\n",
      "마리\n",
      "입양률\n",
      "31\n",
      "%\n",
      "안락사율\n",
      "15\n",
      "%\n"
     ]
    },
    {
     "name": "stderr",
     "output_type": "stream",
     "text": [
      "127.0.0.1 - - [26/Nov/2021 21:26:18] \"\u001b[33mPOST /pythonCrawlNews HTTP/1.1\u001b[0m\" 404 -\n",
      "127.0.0.1 - - [26/Nov/2021 21:26:26] \"\u001b[37mPOST /pawinhandCrawling HTTP/1.1\u001b[0m\" 200 -\n"
     ]
    },
    {
     "name": "stdout",
     "output_type": "stream",
     "text": [
      "오늘 구조된 동물\n",
      "237\n",
      "마리\n",
      "입양률\n",
      "31\n",
      "%\n",
      "안락사율\n",
      "15\n",
      "%\n"
     ]
    },
    {
     "name": "stderr",
     "output_type": "stream",
     "text": [
      "127.0.0.1 - - [26/Nov/2021 21:26:59] \"\u001b[33mPOST /pythonCrawlNews HTTP/1.1\u001b[0m\" 404 -\n",
      "127.0.0.1 - - [26/Nov/2021 21:27:03] \"\u001b[37mPOST /pawinhandCrawling HTTP/1.1\u001b[0m\" 200 -\n"
     ]
    },
    {
     "name": "stdout",
     "output_type": "stream",
     "text": [
      "오늘 구조된 동물\n",
      "237\n",
      "마리\n",
      "입양률\n",
      "31\n",
      "%\n",
      "안락사율\n",
      "15\n",
      "%\n"
     ]
    }
   ],
   "source": [
    "app = Flask(__name__)\n",
    "CORS(app)\n",
    "\n",
    "@app.route('/pawinhandCrawling', methods = ['GET', 'POST'])\n",
    "def pawinhandCrawling():\n",
    "    \n",
    "    url = \"http://pawinhand.kr/main/index.php\"\n",
    "    \n",
    "    options = webdriver.ChromeOptions()\n",
    "    options.add_argument('--headless')\n",
    "    options.add_argument('--window-size=1024,768')\n",
    "    options.add_argument('--disable-gpu')\n",
    "\n",
    "    driver = webdriver.Chrome(r\"C:\\chromedriver.exe\", options = options)\n",
    "    driver.get(url = url)\n",
    "\n",
    "    info = driver.find_elements_by_css_selector(\".pawinhandInfo\")\n",
    "   \n",
    " \n",
    "    for i in info:\n",
    "        crawling = i.text\n",
    "    \n",
    "    print(crawling)\n",
    "    \n",
    "    driver.close()\n",
    "\n",
    "    return jsonify(crawling)\n",
    "\n",
    "if __name__ == \"__main__\":\n",
    "    app.run()"
   ]
  },
  {
   "cell_type": "code",
   "execution_count": null,
   "id": "05b4cc03",
   "metadata": {},
   "outputs": [],
   "source": []
  }
 ],
 "metadata": {
  "kernelspec": {
   "display_name": "Python 3",
   "language": "python",
   "name": "python3"
  },
  "language_info": {
   "codemirror_mode": {
    "name": "ipython",
    "version": 3
   },
   "file_extension": ".py",
   "mimetype": "text/x-python",
   "name": "python",
   "nbconvert_exporter": "python",
   "pygments_lexer": "ipython3",
   "version": "3.8.8"
  }
 },
 "nbformat": 4,
 "nbformat_minor": 5
}
